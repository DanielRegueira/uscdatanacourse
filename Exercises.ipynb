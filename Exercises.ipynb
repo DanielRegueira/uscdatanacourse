{
 "cells": [
  {
   "cell_type": "markdown",
   "metadata": {},
   "source": [
    "# Regression and Goodness of the fit\n",
    "\n",
    "\n",
    "**Course: \"Introduction to data analysis methods for HEP\"**\n",
    "\n",
    "*Author: Jose A. Hernando*, January 2017\n",
    "\n",
    "*Particle Physics Deparment. Universidade de Santiago de Compostela, Spain.*"
   ]
  },
  {
   "cell_type": "code",
   "execution_count": 6,
   "metadata": {
    "collapsed": true
   },
   "outputs": [],
   "source": [
    "# general imports\n",
    "%matplotlib inline\n",
    "\n",
    "# numpy and matplotlib\n",
    "import numpy as np\n",
    "import pandas as pd\n",
    "import matplotlib\n",
    "import matplotlib.pyplot as plt\n",
    "import scipy.stats as stats\n",
    "\n",
    "# possible styles: ggplot (simplicity), bmh (scientify data), \n",
    "matplotlib.style.use('ggplot')\n",
    "\n",
    "# ploting images\n",
    "from IPython.display import display, Image"
   ]
  },
  {
   "cell_type": "code",
   "execution_count": 7,
   "metadata": {
    "collapsed": false
   },
   "outputs": [
    {
     "name": "stdout",
     "output_type": "stream",
     "text": [
      " Last Execution  Mon Feb 13 15:58:01 2017\n"
     ]
    }
   ],
   "source": [
    "import time\n",
    "\n",
    "print ' Last Execution ', time.asctime()"
   ]
  },
  {
   "cell_type": "markdown",
   "metadata": {},
   "source": [
    "----"
   ]
  },
  {
   "cell_type": "markdown",
   "metadata": {},
   "source": [
    "### Higgs, $H \\to \\gamma \\gamma$,  ATLAS 2012\n",
    "\n",
    "In 2012 the ATLAS and CMS collaboration observed the presence of the Higgs in the $\\gamma \\gamma$ channel. The nex histogram is the distribution of 3k $H \\to \\gamma \\gamma$ events collected by the ATLAS experiment during the first part of the Run-I of LHC. (Phys. Lett. B 716 (2012), arXiv:1207.7214).\n",
    "\n",
    "The background is modeled with a exponential with $ax+bx^2$ in the exponent. The signal, the Higgs boson, is a gaussian. Do a fit and estimate the mass and mass resolution parameters. \n",
    "Compute the significance."
   ]
  },
  {
   "cell_type": "code",
   "execution_count": 13,
   "metadata": {
    "collapsed": false
   },
   "outputs": [
    {
     "data": {
      "image/png": "[encoded data removed]",
      "text/plain": [
       "<matplotlib.figure.Figure at 0x117a86cd0>"
      ]
     },
     "metadata": {},
     "output_type": "display_data"
    }
   ],
   "source": [
    "f = open('data/Hgg.txt')\n",
    "data = f.readlines()\n",
    "data = np.array([float(dat) for dat in data])\n",
    "\n",
    "fig, ax = plt.subplots()\n",
    "ax.hist(data, bins=60, color='blue', alpha=0.5)\n",
    "ax.set_xlabel('mass')\n",
    "ax.set_ylabel('entries');\n"
   ]
  },
  {
   "cell_type": "markdown",
   "metadata": {},
   "source": [
    "### Very rare decays, $B_s \\to \\mu \\mu$, LHCb 2012"
   ]
  },
  {
   "cell_type": "markdown",
   "metadata": {},
   "source": [
    "The search for the bery rare $B_s \\to \\mu \\mu$ with 1 fb$-1$ of integrated luminosity done with LHCb data 2012 (Phys. Rev. Lett. 110 (2013) 021801, arXiv:1211.2674), was performed in several bins on the $Bs_$ invariant mass. The number of signal and combinatorial background events and the edges of the bins in the mass range are given bellow. Compute the 90 %CL level upper limit on the BR of this decay if the SM BR is $3.2 \\pm 0.3 \\times 10^{-9}$. "
   ]
  },
  {
   "cell_type": "code",
   "execution_count": 27,
   "metadata": {
    "collapsed": false
   },
   "outputs": [
    {
     "data": {
      "image/png": "[encoded data removed]",
      "text/plain": [
       "<matplotlib.figure.Figure at 0x118582590>"
      ]
     },
     "metadata": {},
     "output_type": "display_data"
    }
   ],
   "source": [
    "# expected background level and error for each bin\n",
    "b = ((0.050, 0.048), (0.049 ,0.046), (0.024, 0.022), (0.047, 0.43), (0.133, 121), \n",
    "     (0.042, 0.037), (0.021, 0.018), (0.040, 0.035), (0.039, 0.032))\n",
    "\n",
    "# expected signal and error in each bin\n",
    "s = ((0.024, 0.005), (0.0582, 0.0111), (0.0496, 0.009), (0.150, 0.027), (0.66, 0.12), \n",
    "     (0.150, 0.027), (0.0496, 0.0091), (0.0581, 0.011), (0.023, 0.005)) \n",
    "\n",
    "# observation on each bin\n",
    "n = (0, 0, 0, 0, 1, 0, 0, 0, 0)\n",
    "\n",
    "# the edges values of the bins in the mass range MeV/c2\n",
    "mass = np.array([5312., 5324., 5336., 5342., 5354., 5390., 5402., 5408., 5420., 5432.])\n",
    "\n",
    "fig, ax = plt.subplots()\n",
    "\n",
    "cmass = 0.5*(mass[1:] + mass[:-1])\n",
    "\n",
    "ax.plot(cmass, [bi[0] for bi in b], color='blue', ls='none', marker='*', markersize=10, label='bkg')\n",
    "ax.plot(cmass, [si[0] for si in s], color='red', ls='none', marker='*', markersize=10, label='sig')\n",
    "ax.plot(cmass, n, color='black', ls='none', marker='o', markersize=10, label='data')\n",
    "ax.set_xlabel(r'mass MeV/c$^2$', fontsize=14)\n",
    "ax.set_ylabel('events', fontsize=14)\n",
    "ax.set_ylim([-0.2, 1.2])\n",
    "ax.legend(fontsize=14);"
   ]
  },
  {
   "cell_type": "markdown",
   "metadata": {},
   "source": [
    "----"
   ]
  },
  {
   "cell_type": "markdown",
   "metadata": {},
   "source": [
    "### Discovery of top quark, D0 collaborations\n",
    "\n",
    "In 1995, C0 & CDF collaborations discovered the top quark with a single counting experiment. D0 measured 17 events, when they expected a background level of $3.8 \\pm 0.6$ (Phys. Rev. Lett 74 (1995) 2632. [hep-ex/9503003]). Compute the signficance of the discovery!"
   ]
  },
  {
   "cell_type": "markdown",
   "metadata": {},
   "source": [
    "---"
   ]
  }
 ],
 "metadata": {
  "anaconda-cloud": {},
  "kernelspec": {
   "display_name": "Python [Root]",
   "language": "python",
   "name": "Python [Root]"
  },
  "language_info": {
   "codemirror_mode": {
    "name": "ipython",
    "version": 2
   },
   "file_extension": ".py",
   "mimetype": "text/x-python",
   "name": "python",
   "nbconvert_exporter": "python",
   "pygments_lexer": "ipython2",
   "version": "2.7.12"
  }
 },
 "nbformat": 4,
 "nbformat_minor": 0
}
