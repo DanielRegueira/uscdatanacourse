{
 "cells": [
  {
   "cell_type": "markdown",
   "metadata": {},
   "source": [
    "# Regression and Goodness of the fit\n",
    "\n",
    "\n",
    "**Course: \"Introduction to data analysis methods for HEP\"**\n",
    "\n",
    "*Author: Jose A. Hernando*, January 2017\n",
    "\n",
    "*Particle Physics Deparment. Universidade de Santiago de Compostela, Spain.*"
   ]
  },
  {
   "cell_type": "markdown",
   "metadata": {},
   "source": [
    "These is a series of lectures on Data Analysis for High Energy Physics. Emphasis is put on Hypothesis testing and Confidence Intervals. They are based on the excellent lectures on statistics by Prosper [1], Cowan [2] and Cranmer[3] given at CERN Academic Training.\n",
    "\n",
    "The most common data analysis packages in HEP are ROOT, RooFit and TMVA [9]. But we will use the Python scientic toolkits, Matplotlib, Numpy, Scipy, Scikit-learn [10] that come with the Anaconda Python distribution [10]. \n",
    "\n",
    "Structure of the course:\n",
    "* General Concepts: probability density functions and likelihoods. Frequentist and bayesian statistics\n",
    "* Hypothesis testings: test statistic. Continuous hypothesis. CLs method.\n",
    "* Confidence Interval: Classical and F.C. intervals.\n",
    "* MVA: Classification and Regression\n",
    "* Regression: Likelihood estimation and goodness of the fit.\n",
    "\n",
    "\n",
    "Structure of the chapter:\n",
    "* Introduction\n",
    "* Estimator of the mean and variance\n",
    "* Maximun Likelihood\n",
    "* Least Squares\n",
    "* Goodness of the fit: chi squares, kolmogoriv-smirnov test\n",
    "* Goodness of the fit, mutivariate case: nearest neighbors, energy and kernel methods"
   ]
  },
  {
   "cell_type": "code",
   "execution_count": 1,
   "metadata": {
    "collapsed": true
   },
   "outputs": [],
   "source": [
    "# general imports\n",
    "%matplotlib inline\n",
    "\n",
    "# numpy and matplotlib\n",
    "import numpy as np\n",
    "import pandas as pd\n",
    "import matplotlib\n",
    "import matplotlib.pyplot as plt\n",
    "import scipy.stats as stats\n",
    "\n",
    "# possible styles: ggplot (simplicity), bmh (scientify data), \n",
    "matplotlib.style.use('ggplot')\n",
    "\n",
    "# ploting images\n",
    "from IPython.display import display, Image"
   ]
  },
  {
   "cell_type": "code",
   "execution_count": 2,
   "metadata": {
    "collapsed": false
   },
   "outputs": [
    {
     "name": "stdout",
     "output_type": "stream",
     "text": [
      " Last Execution  Mon Feb 13 20:51:50 2017\n"
     ]
    }
   ],
   "source": [
    "import time\n",
    "\n",
    "print ' Last Execution ', time.asctime()"
   ]
  },
  {
   "cell_type": "markdown",
   "metadata": {},
   "source": [
    "----"
   ]
  },
  {
   "cell_type": "markdown",
   "metadata": {},
   "source": [
    "## Introduction\n",
    "\n",
    "**regression** is the task of estimating the parameters of a model using data.\n",
    "The most common regression methods are the Least Squares (LS) and the Maximum Likelihood (ML).\n",
    "\n",
    "**goodness of the fit** is the task to quantify the agreement between a dataset and a model or two datasets. A typical example is to check if the model obtained by regression is consistent with the original dataset. Another example is to check if two datasets are consistent. The most common goodness of the fit used are the $\\chi^2$ and the Kolmogorov-Smirnov. The later is only valid in 1D problems. Extending goodness of the fit to multivariate datasets is not simple, and not settled issue.\n",
    "\n",
    "\n",
    "## Estimators\n",
    "\n",
    "An estimator is a method to estimate the value of a parameter, $\\hat{\\mu}$, using the data $x$, where the true parameter is $\\mu$. An estimator is optimal if:\n",
    "\n",
    "* there is not bias in the average of $\\hat{\\mu}$, that is,  $ E[\\hat{\\mu}]-\\mu = 0,$. The mean of the distribution of $\\hat{\\mu}$ is the true value, $\\mu$. \n",
    "* it has the smallest variance: $V[\\hat{\\theta}]$. \n",
    "\n",
    "### Estimators of the mean and the variance\n",
    "\n",
    "\n",
    "The estimator of the mean of a dataset with $n$ samples of a measurement $x$, distributed with a given pdf, $f(x |\\mu)$, is:\n",
    "$$\n",
    "\\hat{\\mu} = \\frac{1}{n} \\sum_{i=1}^n x_i\n",
    "$$\n",
    "and its variance\n",
    "$$\n",
    "V[\\hat{\\mu}] = \\frac{\\sigma^2}{n}\n",
    "$$\n",
    "were $\\sigma^2$ is the variance of the x, $V[x]$.\n",
    "\n",
    "The estimator of the variance, $\\sigma^2$, $V[x]$, of $n$ samples of $x$ measurements, distributed with a pdf $f(x | \\mu)$ is:\n",
    "$$\n",
    "\\hat{\\sigma}^2 = \\frac{1}{n-1} \\sum_{i=1}^n (x_i - \\hat{\\mu})^2\n",
    "$$\n",
    "and its variance:\n",
    "$$\n",
    "V[\\hat{\\sigma}^2] = \\frac{1}{n} \\left( \\mu_4 - \\frac{n-3}{n-1} \\mu_2 \\right),\n",
    "$$\n",
    "where:\n",
    "$$\n",
    "\\mu_n = \\int (x-\\mu)^k \\, f(x |\\mu) \\mathrm{d}x\n",
    "$$\n"
   ]
  },
  {
   "cell_type": "markdown",
   "metadata": {},
   "source": [
    "**Example** Generate $m$ datasets, each one of $n$ samples of $x$, expected to be normal distributed. Obtain the distribution of its mean and variance. Check that the estimators are not biased. Verify that the estimator of the variance is not bias using a small value of $n$ samples."
   ]
  },
  {
   "cell_type": "code",
   "execution_count": 3,
   "metadata": {
    "collapsed": false
   },
   "outputs": [
    {
     "name": "stdout",
     "output_type": "stream",
     "text": [
      " E[mu] =  1.00, mu-true  1.00\n",
      " E[var] =  4.01, sigma-true  2.00 \n"
     ]
    },
    {
     "data": {
      "image/png": "[encoded data removed]",
      "text/plain": [
       "<matplotlib.figure.Figure at 0x103cbd3d0>"
      ]
     },
     "metadata": {},
     "output_type": "display_data"
    }
   ],
   "source": [
    "mu, sigma = 1., 2.\n",
    "m, n = 100000, 4\n",
    "xs = [stats.norm.rvs(mu, sigma, size=10) for i in range(m)]\n",
    "xhats = np.array([np.mean(xis) for xis in xs])\n",
    "\n",
    "def var(xs, xhat):\n",
    "    dx = (xs-xhat)\n",
    "    n = 1.*len(xs)\n",
    "    return np.sum(dx*dx)/(n-1)\n",
    "\n",
    "xsigs = np.array([var(xis, xihat) for xis, xihat in zip(xs, xhats)])\n",
    "print ' E[mu] = {:5.2f}, mu-true {:5.2f}'.format(np.mean(xhats), mu)\n",
    "print ' E[var] = {:5.2f}, sigma-true {:5.2f} '.format(np.mean(xsigs), sigma)\n",
    "\n",
    "fig, axs = plt.subplots(2, 1, figsize=(8, 6))\n",
    "\n",
    "ax0, ax1 = axs.ravel()\n",
    "\n",
    "ax0.hist(xhats, bins=50, normed=True, color='blue', alpha=0.5)\n",
    "ax0.set_xlabel(r'$\\hat{\\mu}$', fontsize=14)\n",
    "ax0.set_ylabel('pdf', fontsize=14)\n",
    "\n",
    "ax1.hist(xsigs, bins=50, normed=True, color='blue', alpha=0.5)\n",
    "ax1.set_xlabel(r'$\\hat{\\sigma}^2$', fontsize=14)\n",
    "ax1.set_ylabel('pdf', fontsize=14)\n",
    "\n",
    "fig.tight_layout()\n",
    "fig.savefig('figs/re_estimators.png');"
   ]
  },
  {
   "cell_type": "markdown",
   "metadata": {},
   "source": [
    "## Maximum likelihood estimator (MLE)\n",
    "\n",
    "The likelihood is the evaluation of the probability at the $x$ data. If $x$ is a list of independent measurements, the likelihood is the product of the individual likelihoods (also called **joint likelihood**).\n",
    "\n",
    "$$\n",
    "\\mathcal{L}(\\mu) = f(x | \\mu) = \\Pi_{i=1}^n f(x_i|\\mu)\n",
    "$$\n",
    "\n",
    "As this is a small number, we take the logarithm, and called it the log-likelihood function: \n",
    "\n",
    "$$\n",
    "\\log f(x | \\mu).\n",
    "$$\n",
    "\n",
    "Given a set of measurements $\\{x\\}$, the maximum likelihood estimator (MLE) maximizes the likelihood function. The MLE are very good, but not always optimal! Be aware that they can be bias!\n",
    "\n",
    "The second degree Taylor's expansion of the likelihood around $\\hat{\\mu}$ is:\n",
    "$$\n",
    "\\log \\mathcal{L} (\\mu) \\simeq \\log \\mathcal{L}(\\hat{\\mu}) + \\frac{\\partial \\log \\mathcal{L}(\\mu}{\\partial \\mu} (\\mu-\\hat{\\mu})+ \\frac{1}{2!}  \\frac{\\partial^2 \\log \\mathcal{L}(\\mu)}{\\partial \\mu^2} (\\mu-\\hat{\\mu})^2\n",
    "$$\n",
    "\n",
    "From this, we can associate the variance to:\n",
    "$$\n",
    "\\sigma^2_{\\hat{\\mu}} = - \\left[\\frac{\\partial^2 \\log \\mathcal{L}(\\mu)}{\\partial \\mu^2}\\right]^{-1}_{\\hat{\\mu}}\n",
    "$$\n",
    "\n",
    "Or: \n",
    "\n",
    "$$\n",
    "\\log \\mathcal{L} (\\hat{\\mu} \\pm \\sigma_{\\hat{\\mu}} )= \\log \\mathcal{L}(\\hat{\\mu}) - \\frac{1}{2}.\n",
    "$$\n",
    "\n",
    "If we use $-2 \\log \\mathcal{L}(\\mu)$, The standar desviation is now related with the increase of one unit in $-2 \\log \\mathcal{L}(\\mu)$ respect the value at the best estimate, $\\hat{\\mu}$:\n",
    "\n",
    "$$\n",
    "-2 \\log \\frac{\\mathcal{L}(\\hat{\\mu}\\pm \\sigma_{\\hat{\\mu}})}{ \\mathcal{L}(\\hat{\\mu})} = 1\n",
    "$$\n",
    "\n",
    "Be aware that LL is *not a criteria for the goodness of the fit!*"
   ]
  },
  {
   "cell_type": "markdown",
   "metadata": {},
   "source": [
    "**Exercise:** Consider the decay of a particle with a lifetime, $\\tau = 1$. Generate a dataset with the measurements $x_i, \\, i=1, \\dots, n$ of $n$ decays. Calculate $\\hat{\\tau}$ using the MLE. Use the scan in $\\log \\mathcal{L} (\\tau)$ to estimate the variance of $\\tau$. Generate $m$ datasets with $n$ decays each one, and obtain the distribution of $\\hat{\\tau}$, its mean and variance. \n",
    "\n",
    "First notice, that the MLE for an exponential is just the mean:\n",
    "\n",
    "$$\n",
    "f(x \\ | \\tau) = \\frac{1}{\\tau^n} \\Pi_{i=1}^n e^{-x_i/\\tau}\n",
    "$$\n",
    "\n",
    "$$\n",
    "-2 \\log \\mathcal{L}(\\tau) = 2 n \\log(\\tau) + 2 \\sum_{i=1}^n \\frac{x_i}{\\tau}\n",
    "$$\n",
    "\n",
    "$$\n",
    "\\hat{\\tau} = \\frac{1}{n} \\sum_{i=1}^n x_i\n",
    "$$"
   ]
  },
  {
   "cell_type": "code",
   "execution_count": 4,
   "metadata": {
    "collapsed": false
   },
   "outputs": [
    {
     "name": "stdout",
     "output_type": "stream",
     "text": [
      "E[tau] =  0.99\n",
      "E[sigma_tau] =  0.39\n"
     ]
    },
    {
     "data": {
      "image/png": "[encoded data removed]",
      "text/plain": [
       "<matplotlib.figure.Figure at 0x115f627d0>"
      ]
     },
     "metadata": {},
     "output_type": "display_data"
    }
   ],
   "source": [
    "import scipy.optimize as optimize\n",
    "\n",
    "m, n = 10000, 10\n",
    "tau = 1.\n",
    "\n",
    "xs = [stats.expon.rvs(scale=tau, size=n) for i in range(m)]\n",
    "\n",
    "def ll(xs, tau):\n",
    "    return 2.*np.sum(xs)/tau + 2.*len(xs)*np.log(tau) \n",
    "\n",
    "def muhat(xs):\n",
    "    return np.mean(xs)\n",
    "\n",
    "def tmu(xs, mu):\n",
    "    mhat = muhat(xs)\n",
    "    return ll(xs, mu) - ll(xs, mhat)\n",
    "\n",
    "def fun_root(xs, delta=0.):\n",
    "    def fun(mu):\n",
    "        return tmu(xs, mu) - delta \n",
    "    return fun\n",
    "\n",
    "def sigmas(xs, nsize=3.):\n",
    "    muhat0 = muhat(xs)\n",
    "    xfun = fun_root(xs, delta=1.)\n",
    "    # xl = optimize.brentq(xfun, 0., muhat0)\n",
    "    xu = optimize.brentq(xfun, muhat0, nsize*muhat0)\n",
    "    return xu-muhat0\n",
    "\n",
    "\n",
    "taus = np.array([np.mean(xis) for xis in xs])\n",
    "sigs = np.array([sigmas(xis) for xis in xs])\n",
    "\n",
    "fig, axs = plt.subplots(2, 1, figsize=(8, 6))\n",
    "\n",
    "ax0, ax1 = axs.ravel()\n",
    "\n",
    "ax0.hist(taus, bins=50, normed=True, color='blue', alpha=0.5);\n",
    "ax0.set_xlabel(r'$\\tau$', fontsize=14)\n",
    "\n",
    "ax1.hist(sigs, bins=50, normed=True, color='blue', alpha=0.5);\n",
    "ax1.set_xlabel(r'$\\sigma_\\tau$', fontsize=15)\n",
    "\n",
    "print 'E[tau] = {:5.2f}'.format(np.mean(taus))\n",
    "print 'E[sigma_tau] = {:5.2f}'.format(np.mean(sigs))\n",
    "\n",
    "fig.tight_layout();\n"
   ]
  },
  {
   "cell_type": "markdown",
   "metadata": {},
   "source": [
    "### Binned Maximum Likelihood\n",
    "\n",
    "When data is a histogram (with bins $x_i$ and contents $n_i$, with $i=1, \\dots, n$), the maximum likelihood is said to be binned. There is some loss of information passing from unbin to bin ML, but if the number of samples is very large, the binned ML reduces the computational time.\n",
    "\n",
    "In the case of the histogram:\n",
    "$$\n",
    "- 2 \\log \\mathcal{L}(\\mu) = -2 \\sum_{i=1}^n n_i \\log f(x_i | \\mu)\n",
    "$$\n"
   ]
  },
  {
   "cell_type": "markdown",
   "metadata": {},
   "source": [
    "**Example:** Fill a histogram with $n$ samples of a measurement $x$ distributed with an exponential with $\\tau=1$. Obtain $\\hat{\\tau}$ with a binned ML."
   ]
  },
  {
   "cell_type": "code",
   "execution_count": 5,
   "metadata": {
    "collapsed": false
   },
   "outputs": [
    {
     "name": "stdout",
     "output_type": "stream",
     "text": [
      "best estimate tau 0.966\n"
     ]
    },
    {
     "data": {
      "image/png": "[encoded data removed]",
      "text/plain": [
       "<matplotlib.figure.Figure at 0x113730490>"
      ]
     },
     "metadata": {},
     "output_type": "display_data"
    }
   ],
   "source": [
    "tau = 1.\n",
    "n = 1000000\n",
    "xss = stats.expon.rvs(size=n, scale=tau)\n",
    "\n",
    "ns, xedges = np.histogram(xss, bins=40, range=(0., 5.))\n",
    "xs = 0.5*(xedges[1:]+xedges[:-1])\n",
    "\n",
    "def ll(xtau, xs, ns):\n",
    "    return -2*np.sum(ns*np.log(stats.expon.pdf(xs, scale=xtau)))\n",
    "\n",
    "def llfun(xs, ns):\n",
    "    def fun(xtau):\n",
    "        return ll(xtau, xs, ns)\n",
    "    return fun\n",
    "\n",
    "def muhat(xtau0, xs, ns):\n",
    "    fun = llfun(xs, ns)\n",
    "    result = optimize.minimize(fun, x0=xtau0, method='Nelder-Mead')\n",
    "    return result.x[0]\n",
    "\n",
    "fig, axs = plt.subplots(2, 1, figsize=(6, 6))\n",
    "ax0, ax1 = axs.ravel()\n",
    "\n",
    "ax0.hist(xss, bins=40, normed=True, range=(0., 5.), color='blue', alpha=0.5);\n",
    "ax0.set_xlabel(r'x', fontsize=14)\n",
    "\n",
    "taus = np.linspace(0.2, 3., 100)\n",
    "lls = np.array([ll(itau, xs, ns) for itau in taus])\n",
    "ax1.plot(taus, lls, color='red', lw=2)\n",
    "ax1.set_xlabel(r'$\\tau$', fontsize=14)\n",
    "ax1.set_ylabel(r'$\\mathcal{L}(\\tau)$', fontsize=14)\n",
    "\n",
    "fig.tight_layout()\n",
    "\n",
    "tauhat = muhat(2., xs, ns)\n",
    "print 'best estimate tau {:5.3f}'.format(tauhat)\n"
   ]
  },
  {
   "cell_type": "markdown",
   "metadata": {},
   "source": [
    "### Extended Maximum Likelihood\n",
    "\n",
    "Consider the case of $n$ samples of $x$ measurements, distributed with a pdf $f(x | \\mu)$, and $n$ is itself poisson distributed $f(n | \\nu)$. The complete likelihood is:\n",
    "\n",
    "$$\n",
    "\\mathcal{L}(\\nu,\\mu) = \\frac{\\nu^n}{n!} e^{-\\nu} \\Pi_{i=1}^n f(x_i|\\mu)\n",
    "$$\n",
    "\n",
    "And it is called **Extended Maximum Likelihood function**. In the cases where $\\nu$ depends on $\\mu$, we must use EML. If $\\nu$ is independent of $\\mu$, then $\\hat{\\nu} = n$, and we recover the ML result.\n"
   ]
  },
  {
   "cell_type": "markdown",
   "metadata": {},
   "source": [
    "#### Signal and background samples combined\n",
    "\n",
    "Consider two types of samples, background and signal, each one has a given pdf in one variable $x$, $f_b(x | \\mu), f_s(x | \\mu')$. We measure $n$ samples of $x$, we do not know how many are signal or background, but we expect them distributed with a poisson with means $\\nu_s, \\, \\nu_b$. The pdf of the variable $x$, $f(x| \\nu_s, \\nu_b, \\mu, \\mu')$ is the product of two pdfs: \n",
    "\n",
    "The pdf for $x$:\n",
    "$$\n",
    "f(x|\\nu_s,\\nu_s, \\mu, \\mu') = \\frac{\\nu_s}{\\nu_s+\\nu_b} f_s(x | \\mu) + \\frac{\\nu_b}{\\nu_s+\\nu_b} f_b(x | \\mu')\n",
    "$$\n",
    "And pdf of the number of events, that is poisson distributed:\n",
    "$$\n",
    "p(n|\\nu_s,\\nu_b) = \\frac{(\\nu_s+\\nu_b)^n}{n!} e^{-(\\nu_s+\\nu_b)}\n",
    "$$\n",
    "\n",
    "The complete pdf is:\n",
    "$$\n",
    "f(n, x | \\nu_s,\\nu_b, \\mu, \\mu') = p(n|\\nu_s,\\nu_b) \\, f(x|\\nu_S,\\nu_B, \\mu, \\mu')\n",
    "$$"
   ]
  },
  {
   "cell_type": "markdown",
   "metadata": {},
   "source": [
    "**Exercise:** Consider a dataset with $n$ samples of a measurement $x$. The samples can be either background or signal. For the background $x$ follows and exponential and for the signal a gaussian. Use EML to compute the number of signal and background events in the dataset."
   ]
  },
  {
   "cell_type": "code",
   "execution_count": 6,
   "metadata": {
    "collapsed": false
   },
   "outputs": [
    {
     "name": "stdout",
     "output_type": "stream",
     "text": [
      " true: signal = 30, bkg = 95\n",
      " minimize:  True\n",
      " best : signal = 31.04, bkg = 93.96 \n"
     ]
    },
    {
     "data": {
      "image/png": "[encoded data removed]",
      "text/plain": [
       "<matplotlib.figure.Figure at 0x116188cd0>"
      ]
     },
     "metadata": {},
     "output_type": "display_data"
    }
   ],
   "source": [
    "from mpl_toolkits.mplot3d import Axes3D\n",
    "import scipy.optimize as optimize\n",
    "\n",
    "nus, nub = 20, 100\n",
    "tau = 1\n",
    "mu, sigma = 5, 1\n",
    "\n",
    "# code\n",
    "def ll(xs, mus):\n",
    "    nus, nub = float(mus[0]), float(mus[1])\n",
    "    nu = nus+nub\n",
    "    if (float(nu)<=0.):\n",
    "        return 1.e33\n",
    "    q = nus/nu\n",
    "    n = len(xs)\n",
    "    pn = stats.poisson.pmf(n, nu)\n",
    "    pb = stats.expon.pdf(xs, scale=tau)\n",
    "    ps = stats.norm.pdf(xs, scale=sigma, loc=mu)\n",
    "    xll = -2.*np.sum(np.log((1-q)*pb+q*ps))-2*np.log(pn)\n",
    "    return xll\n",
    "\n",
    "def llfun(xnus, xnub):\n",
    "    return ll(xs, (xnus, xnub))\n",
    "\n",
    "def minllfun(xx):\n",
    "    return ll(xs, xx)\n",
    "\n",
    "# generate samples\n",
    "ns = stats.poisson.rvs(nus, size=1)[0]\n",
    "nb = stats.poisson.rvs(nub, size=1)[0]\n",
    "bxs = stats.expon.rvs(scale=tau, size=nb)\n",
    "sxs = stats.norm.rvs(scale=sigma, loc=mu, size=ns)\n",
    "print ' true: signal = {:d}, bkg = {:d}'.format(ns, nb)\n",
    "\n",
    "# generate combined sample and shuffle it!\n",
    "xs = np.array(list(sxs)+list(bxs))\n",
    "np.random.shuffle(xs)\n",
    "\n",
    "# get the best estimates of nus and nub\n",
    "result = optimize.minimize(minllfun, x0=(100., 100.), \n",
    "                           method='Nelder-Mead')\n",
    "print ' minimize: ', result.success\n",
    "nushat, nubhat = result.x[0], result.x[1]\n",
    "print ' best : signal = {:5.2f}, bkg = {:5.2f} '.format(nushat, nubhat)\n",
    "\n",
    "\n",
    "# plots\n",
    "fig, axs = plt.subplots(2, 2, figsize=(9, 6))\n",
    "ax0, ax1, ax2, ax3 = axs.ravel()\n",
    "\n",
    "ax0.hist(bxs, bins=50, color='blue', alpha=0.5, label='bkg')\n",
    "ax0.hist(sxs, bins=50, color='red', alpha=0.5, label='sig')\n",
    "ax0.set_xlabel(r'$x$', fontsize=14)\n",
    "ax1.set_ylabel('samples', fontsize=14)\n",
    "\n",
    "bins = max(nus, nub)\n",
    "xnus = np.linspace(1., 2.*bins, 100)\n",
    "llss = np.array([ll(xs, (nui, nub)) for nui in xnus])\n",
    "llbs = np.array([ll(xs, (nus, nui)) for nui in xnus])\n",
    "ax1.plot(xnus, llss, color='red', lw=2, label='signal')\n",
    "ax1.plot(xnus, llbs, color='blue', lw=2, label='bkg');\n",
    "ax1.set_xlabel('n', fontsize=14)\n",
    "ax1.set_ylabel(r'$\\mathcal{L}(n)$', fontsize=14)\n",
    "\n",
    "xnus = np.linspace(1., 2.*bins, 100)\n",
    "ynus = np.linspace(1., 2.*bins, 100)\n",
    "mxnus, mynus = np.meshgrid(xnus, ynus)\n",
    "zz = [[llfun(inus, inub) for inus in xnus] for inub in ynus]\n",
    "zz = np.array(zz)\n",
    "c0 = ax2.contourf(mxnus, mynus, zz, 20, alpha=0.8, \n",
    "                 cmp=plt.cm.jet)\n",
    "ax2.set_xlabel(r'$\\nu_s$', fontsize=14)\n",
    "ax2.set_ylabel(r'$\\nu_b$', fontsize=14)\n",
    "ax2.plot(nushat, nubhat, color='black', \n",
    "         marker='*', markersize=8)\n",
    "ax2.set_title('likelihood')\n",
    "fig.colorbar(c0, ax=ax2)\n",
    "\n",
    "fig.tight_layout();"
   ]
  },
  {
   "cell_type": "markdown",
   "metadata": {},
   "source": [
    "## Least squared method\n",
    "\n",
    "Consider a dataset of $n$ pair samples $\\{(x_i, \\, y_i)\\}$, where $i=1,\\dots,n$. And that a relation between $y$ and $x$ exists and it is given by a model $y=\\lambda(x|\\mu)$, that depends on a parameter $\\mu$.  If the $y_i$ measurements are gaussian distributed with known variances $V[y_i] = \\sigma^2_i$. The likelihood function is:\n",
    "\n",
    "$$\n",
    "\\mathcal{L} (\\mu) = \\Pi_{i=1}^n \\frac{1}{\\sqrt{2\\pi}\\sigma_i} e^{- \\frac{(y_i-\\lambda(x_i|\\mu))^2}{2\\sigma^2_i}}\n",
    "$$\n",
    "\n",
    "If we take the logarithm and remove the constant terms, those ones that do not depend on $\\mu$, we get:\n",
    "\n",
    "$$\n",
    "-  2 \\log \\mathcal{L}(\\mu) = \\sum_{i=1}^n \\frac{(y_i - \\lambda(x_i|\\mu))^2} { \\sigma^2_i}\n",
    "$$\n",
    "that is the $\\chi^2$.\n",
    "\n",
    "Maximizing $\\log \\mathcal{L} (\\mu)$ is now the same as minimizing  the $\\chi^2 (\\mu)$.\n",
    "\n",
    "$$\n",
    "\\chi^2(\\mu) = - 2 \\log \\mathcal{L} (\\mu)\n",
    "$$\n",
    "\n",
    "The best estimate, $\\hat{\\mu}$, is the minimum of the $\\chi^2$. The variance of $\\hat{\\mu}$ is:\n",
    "\n",
    "$$\n",
    "\\sigma^2_{\\hat{\\mu}} \\simeq 2 \\left[ \\frac{\\partial^2 \\chi^2}{\\partial \\mu^2}\\right]^{-1}_{\\hat{\\mu}}\n",
    "$$\n",
    "\n",
    "or where the expansion of $\\chi^2$ around the minimum gets increased by one.\n",
    "\n",
    "$$\n",
    "\\chi^2(\\hat \\mu \\pm \\sigma_{\\hat \\mu}) = \\chi^2(\\hat \\mu) + 1\n",
    "$$\n",
    "\n",
    "### $\\chi^2$ as goodness of the fit\n",
    "\n",
    "The least squares method provides a criteria to estimate the goodness of the fit. The variable $\\chi^2$ follows a $\\chi^2$ distribution with $n$ degrees of freedom (the number of measurements minus the number of parameters), $\\chi^2(t|n)$. Therefore it can be used as a test statistics to compute a $p$-value!\n",
    "\n",
    "$$\n",
    "p = \\int_{\\chi^2}^{\\infty} \\chi^2(t|n) \\, \\mathrm{d}t\n",
    "$$\n"
   ]
  },
  {
   "cell_type": "markdown",
   "metadata": {},
   "source": [
    "\n",
    "**Exercise:** Consider a linear dependence $y=ax+b$, where $a,b$ are parameters ($a=1, \\, b=0$). Generate an dataset with $n=4$ pairs of measurements $\\{(x_i,y_i)\\}$, with $i=1,\\dots,n$; and a variance on $y$ of $\\sigma^2_y = 0.1$. Estimate the $a,b$ parameters using LS. Compute the $\\chi^2$ and the $p$-value. Generate now $m$, large number, datasets, and get he $\\chi^2$ distribution, check that it follows a $\\chi^2_n(t|n=2)$  distribution. Get also the pull distributions for $a, b$. Are they gaussian distributed with mean zero and sigma one?"
   ]
  },
  {
   "cell_type": "code",
   "execution_count": 7,
   "metadata": {
    "collapsed": true
   },
   "outputs": [],
   "source": [
    "def ls_chi2(result):\n",
    "    \"\"\" it computes the chi2 and cov matrix from the result of a least_squares scipy fit\n",
    "    return the chi2/ndf\n",
    "    result is updated with the information of the chi2, and the cov matrix!\n",
    "    \"\"\"\n",
    "    chi2 = np.sum(result.fun**2)\n",
    "    ndf = float(len(result.fun)-len(result.x))\n",
    "    chi2ndf = chi2/ndf\n",
    "    cov = (np.linalg.inv(np.dot(result.jac.T, result.jac)))*chi2ndf\n",
    "    result.chi2 = chi2\n",
    "    result.ndf = ndf\n",
    "    result.cov = cov\n",
    "    return chi2/ndf\n",
    "    "
   ]
  },
  {
   "cell_type": "code",
   "execution_count": 9,
   "metadata": {
    "collapsed": false
   },
   "outputs": [
    {
     "name": "stdout",
     "output_type": "stream",
     "text": [
      " pull a  0.01398351849  sigma  1.14161763261\n",
      " pull b  0.00086643575087  sigma  1.1516032296\n"
     ]
    },
    {
     "data": {
      "image/png": "[encoded data removed]",
      "text/plain": [
       "<matplotlib.figure.Figure at 0x116000090>"
      ]
     },
     "metadata": {},
     "output_type": "display_data"
    }
   ],
   "source": [
    "import scipy.optimize as optimize\n",
    "\n",
    "a, b = 1., 0.\n",
    "sigma = 1.\n",
    "m, n = 10000, 10\n",
    "xsize = 10.\n",
    "nbins = 40\n",
    "\n",
    "def experiment(n):\n",
    "    xs = xsize*stats.uniform.rvs(size=n)\n",
    "    ys = a*xs+b+stats.norm.rvs(scale=sigma, size=n)\n",
    "    return (xs, ys)\n",
    "\n",
    "xs = [experiment(n) for i in range(m)]\n",
    "\n",
    "def resfun(xs, ys, errors):\n",
    "    def fun(pars):\n",
    "        dx = (ys-pars[0]*xs+pars[1])/errors\n",
    "        return dx\n",
    "    return fun\n",
    "\n",
    "def ls(xi, x0):\n",
    "    xs, ys = xi[0], xi[1]\n",
    "    lsfun = resfun(xs, ys, sigma)\n",
    "    result = optimize.least_squares(lsfun, x0=x0)\n",
    "    chi2 = ls_chi2(result)\n",
    "    a, sigma_a = result.x[0], np.sqrt(result.cov[0, 0])\n",
    "    b, sigma_b = result.x[1], np.sqrt(result.cov[1, 1])\n",
    "    return (chi2, a, b, sigma_a, sigma_b)\n",
    "\n",
    "x0 = [a, b]\n",
    "lsvals = [ls(xi, x0) for xi in xs]\n",
    "\n",
    "fig, axs = plt.subplots(3, 2, figsize=(9 , 12))\n",
    "ax0, ax1, ax2, ax3, ax4, ax5 = axs.ravel()\n",
    "\n",
    "xxs, ys = xs[0][0], xs[0][1]\n",
    "ax0.plot(xxs, ys, color='black', marker='o', markersize=5, \n",
    "         ls='none', label='data')\n",
    "a0, b0 = lsvals[0][1], lsvals[0][2]\n",
    "ax0.plot(xxs, a0*xxs+b0, color='blue', lw=2, label='ls fit')\n",
    "ax0.legend(loc=2)\n",
    "ax0.set_xlabel(r'$x$', fontsize=14)\n",
    "ax0.set_ylabel(r'$y$', fontsize=14)\n",
    "\n",
    "chi2 = [xi[0] for xi in lsvals]\n",
    "ax1.hist(chi2, bins=50, normed=True, color='blue', alpha=0.5)\n",
    "ax1.set_xlabel(r'$\\chi^2$', fontsize=14)\n",
    "\n",
    "xas = np.array([xi[1] for xi in lsvals])\n",
    "xsas = np.array([xi[3] for xi in lsvals])\n",
    "ax2.hist(xas, bins=nbins, normed=True, color='blue', alpha=0.5)\n",
    "ax2.set_xlabel('a', fontsize=14)\n",
    "\n",
    "xbs = np.array([xi[2] for xi in lsvals])\n",
    "xsbs = np.array([xi[4] for xi in lsvals])\n",
    "ax3.hist(xbs, bins=nbins, normed=True, color='blue', alpha=0.5)\n",
    "ax3.set_xlabel('b', fontsize=14)\n",
    "\n",
    "aps = (xas-a)/xsas\n",
    "print ' pull a ', np.mean(aps), ' sigma ', np.std(aps)\n",
    "ax4.hist(aps, bins=nbins, normed=True, range=(-5., 5.), \n",
    "         color='blue', alpha=0.5)\n",
    "ax4.set_xlabel('a-pull', fontsize=14)\n",
    "\n",
    "bps = (xbs-b)/xsbs\n",
    "print ' pull b ', np.mean(bps), ' sigma ', np.std(bps)\n",
    "ax5.hist(bps, bins=nbins, normed=True, range=(-5., 5.),\n",
    "         color='blue', alpha=0.5)\n",
    "ax5.set_xlabel('b-pull', fontsize=14);\n",
    "\n",
    "fig.tight_layout()"
   ]
  },
  {
   "cell_type": "markdown",
   "metadata": {},
   "source": [
    "## Goodness of the fit\n",
    "\n",
    "How I can know is two samples come from the same pdf? Are they identical? \n",
    "\n",
    "To check the goodness of the fit we require a model and a test dataset (or two datasets). As we do for hypothesis testing, we need to define a test-statistics that quantifies the agreement of the test with the model. \n",
    "\n",
    "### p-values\n",
    "\n",
    "(See chapter on Hypothesis testing)\n",
    "\n",
    "The p-value measures the probability of obtaining a measurement equal or less compatible than the current measurement with the model, $H_0$. First, we define a test statistics, $t(x)$, which cuantifies the agreement of the measurement, $x$, with the model. Usually low values of $t(x)$ indicates good compatibility with $H_0$ and larger values bad compatibility. To compute the p-value we need to know the pdf of the test statistics: $f(t|H_0)$ \n",
    "\n",
    "From the test-statistic of our observation, $t_0$, we determine the p-value of the test, computing the integral:\n",
    "$$\n",
    "\\alpha = \\int_{t_0}^{\\infty} f(t | H_0) \\mathrm{d}t\n",
    "$$\n",
    "where $\\alpha$, is the p-value.\n",
    "\n",
    "If our dataset follows a hypothesis $H_0$, the p-values are uniform distributed between [0, 1]. If the p-value of our observation is low, i.e. 1%, then can conclude that we have a bad agreement with the model. In general if $p < 0.05 \\, (0.1)$ we exclude that the test dataset comes from $H_0$ at 95% (90%) CL. (see confidence level chapter)"
   ]
  },
  {
   "cell_type": "markdown",
   "metadata": {},
   "source": [
    "**Exercise:** Generate an experiment with $n$ samples normal distributed. Compute its $p$-value. What happens if you were considering that the model was a gaussian with mean 3 and sigma 1?\n"
   ]
  },
  {
   "cell_type": "markdown",
   "metadata": {},
   "source": [
    "### $\\chi^2$ test\n",
    "\n",
    "Consider the case of a model $H_0$, that predicts a set of measurements ${\\bf x}'$, with a covariance matrix ${\\bf V}$. The actual measurements are ${\\bf x}$. The $\\chi^2$ quantifies the agreement between the measurments and the predictions. In matricial form:\n",
    "\n",
    "$$\n",
    "\\chi^2 = ({\\bf x} - {\\bf x}') \\, {\\bf V} \\, ({\\bf x} - {\\bf x}')^t\n",
    "$$\n",
    "\n",
    "The $\\chi^2$ is distributed with a $\\chi^2(t | n)$ distribution of $n$ degrees of freedom, where $n$ is the number of measurements minus the number of parameters of our model that we have estimated from the data. \n",
    "\n",
    "We can use that we know the pdf of $\\chi^2$ to compute its p-value:\n",
    "\n",
    "$$\n",
    "\\alpha = \\int_{\\chi^2}^{\\infty} \\chi^2(t | n) \\mathrm{d} t\n",
    "$$\n",
    "\n",
    "This is the test we use to quantify the goodness of the a least squares fit! (see section)"
   ]
  },
  {
   "cell_type": "markdown",
   "metadata": {},
   "source": [
    "**Exercise:** Generate $n$ measurements according with a polinomial model $y = f(x)$ with equal error, $\\sigma$, for each measurement. Compute the $\\chi^2$ distribution."
   ]
  },
  {
   "cell_type": "markdown",
   "metadata": {},
   "source": [
    "### Kolmogorov-Smirnov test\n",
    "\n",
    "\n",
    "The KS test cuantifies the largest desviation of the cumulative of the test dataset with respect the cumulative of the model. The test only works on one dimension!\n"
   ]
  },
  {
   "cell_type": "markdown",
   "metadata": {},
   "source": [
    "**Exercise:** Generate a datasets with $n$ samples of $x$, that is normal distributed. Do a KS test with respect the normal distribution. Repeat the test with respect a gaussian model of mean 3 and sigma 1."
   ]
  },
  {
   "cell_type": "code",
   "execution_count": null,
   "metadata": {
    "collapsed": false
   },
   "outputs": [],
   "source": [
    "m, n = 10000, 100\n",
    "mu0, mu1 = 0., 0.\n",
    "sig0, sig1 = 1., 1.\n",
    "\n",
    "h0 = stats.norm(loc=mu0, scale=sig0)\n",
    "h1 = stats.norm(loc=mu1, scale=sig1)\n",
    "\n",
    "def experiment(n):\n",
    "    return h1.rvs(size=n)\n",
    "\n",
    "sets = [experiment(n) for i in range(m)]\n",
    "\n",
    "ksvals = [stats.kstest(iset, h0.cdf) for iset in sets]\n",
    "\n",
    "kss = np.array([val[0] for val in ksvals])\n",
    "pss = np.array([val[1] for val in ksvals])\n",
    "\n",
    "fig, axs = plt.subplots(2, 1, figsize=(9, 6))\n",
    "\n",
    "ax0, ax1 = axs.ravel()\n",
    "\n",
    "ax0.hist(kss, bins=50, normed=True, color='blue', alpha=0.5)\n",
    "ax0.set_xlabel('ks-test')\n",
    "\n",
    "ax1.hist(pss, bins=50, normed=True, color='blue', alpha=0.5)\n",
    "ax1.set_xlabel('p-value')\n",
    "\n",
    "fig.tight_layout();"
   ]
  },
  {
   "cell_type": "markdown",
   "metadata": {},
   "source": [
    "## n-dimensional goodness of the fit tests\n",
    "\n",
    "Testing the goodness of the fit for n-dimensional model or dataset is complex. The KS test is only valid in 1D and the $\\chi^2$ test is not always possible. Moving to many dimensions, one faces the *curse of dimensionality*! In general in $n$ dimensions, we have two datasets and we are left with the question if they come from the same pdf, model!\n",
    "\n",
    "There is no unique or best method in a n-dimensional goodness of the test. The following methods, k nearest neighbor, energy test are used in HEP. (see ref [8])\n"
   ]
  },
  {
   "cell_type": "markdown",
   "metadata": {},
   "source": [
    "### k nearest neighbour\n",
    "\n",
    "Consider the case where we have two datasets. If both they come from the same model, mixing them, will generate another dataset from the same model. \n",
    "\n",
    "The k-nearest neighbour is based on a test-statistic that measures the average fraction of neighbor points of the same dataset in a mix of the two datasets. First, we need to define the distance between two points, ${\\bf x}_i, \\ {\\bf x}_j$, in the $n$ dimensional space. The euclidian distance is a natural possibility, but it is not the only one.\n",
    "\n",
    "$$\n",
    "| {\\bf x}_i - {\\bf x}_j |^2 = \\sum_{k=i}^n \\left( \\frac{x^k_i-x^k_j}{w^k}\\right)^2 \n",
    "$$\n",
    "\n",
    "where $k$ is the index in the dimension of the space. For the euclidian distance with all coordinates equal, we take the weight $w^k =1$.\n",
    "\n",
    "The test statistics, $t$, is then computed from the average number of points from the same dataset with respect any point in the pooled sample.\n",
    "\n",
    "$$\n",
    "t = \\frac{1}{n_a+n_b} \\sum_{i=1}^{n_a+n_b} \\frac{1}{n_k} \\sum_{k=1}^{n_k} I(i,k)\n",
    "$$\n",
    "where $n_a, n_b$ are the sample sizes of the test and the model datasets, $n_k$ are the number of neighbors considered (i.e 5), and I(i, k) is a function, that gives 0, if the kth neighbour of the $i$ point is of the same dataset, (i.e if $i$ belongs to the sample $a$, and its kth neighbour belongs to sample $b$, then $I(i, k)$ is zero); and gives 1 if both points belongs to the same dataset.\n",
    "\n",
    "In the case that both datasets are from the same model, and have the same size, one expects that $t$ is distributed around $0.5$. If the datasets come from different models, $t$ should be greater, towards 1.\n",
    "\n",
    "To compute the p-value we need to obtain the distribution of the test statistics $f(t)$, we can do that even not knowing the model, via permutations (see section)"
   ]
  },
  {
   "cell_type": "markdown",
   "metadata": {},
   "source": [
    "**Exercise:** Generate two datasets of $n samples$ of $(x, y)$ distributed with a normal 2d gaussian. Compute the k nearest neighbor goodness of the fit."
   ]
  },
  {
   "cell_type": "markdown",
   "metadata": {},
   "source": [
    "### Energy test\n",
    "\n",
    "The energy test is based on the potential of a charged particles in electromagnetics. Consider that the pdfs of the samples are $f_a({\\bf x}), \\, f_b({\\bf x})$. The Energy test statistics is defined as:\n",
    "\n",
    "$$\n",
    "t = \\frac{1}{2} \\int (f_a({\\bf x})-f_b({\\bf x'})) \\; \\Phi(|{\\bf x} - {\\bf x'}|) \\; (f_a({\\bf x})-f_b({\\bf x'})) \\mathrm{d}x \\mathrm{d}x'\n",
    "$$\n",
    "\n",
    "that is minimal when $f_a({\\bf x}) = f_b({\\bf x})$\n",
    "\n",
    "We have to define an energy interaction, by analogy with the electromagnetism, we can take:\n",
    "$$\n",
    "\\Phi(|{\\bf x} - {\\bf x'}|) = \\frac{1}{|{\\bf x} - {\\bf x'}|}\n",
    "$$\n",
    "but other choices are also possible, i.e:\n",
    "$$\n",
    "\\Phi(|{\\bf x} - {\\bf x'}|) = e^{-({\\bf x} - {\\bf x'})^2}\n",
    "$$\n",
    "\n",
    "\n",
    "\n",
    "There is no need to know the pdfs $f_a({\\bf x}), \\, f_b({\\bf x'})$, we can re-write the test-statistics:\n",
    "\n",
    "$$\n",
    "t = \\frac{1}{n_a (n_a-1)} \\sum_{i>j}^{n_a} \\Phi(\\Delta {\\bf x}_{ij}) + \\frac{1}{n_b (n_b-1)} \\sum_{i>j}^{n_b} \\Phi(\\Delta {\\bf x}_{ij}) - \\frac{1}{n_a n_b} \\sum_{i=1}^{n_a} \\sum_{j=1}^{n_b} \\Phi(\\Delta {\\bf x}_{ij})\n",
    "$$\n",
    "\n",
    "The Energy test is a powerful goodness of the test, but it can be expensive on computation time."
   ]
  },
  {
   "cell_type": "markdown",
   "metadata": {},
   "source": [
    "**Exercise:** Compute the energy test for a 1D sample normal distributed."
   ]
  },
  {
   "cell_type": "code",
   "execution_count": null,
   "metadata": {
    "collapsed": false
   },
   "outputs": [],
   "source": [
    "m, n = 10000, 5\n",
    "\n",
    "mu0, mu1 = 0., 3.\n",
    "\n",
    "def ene(xi, xj):\n",
    "    # return 1./abs(xi-xj)\n",
    "    return np.exp(-(xi-xj)*(xi-xj))\n",
    "\n",
    "def total_ene(xas, xbs):\n",
    "    ee = 0.\n",
    "    na, nb = len(xas), len(xbs)\n",
    "    eas, ebs, eabs = 0., 0., 0.\n",
    "    for i in range(na):\n",
    "        for j in range(i+1, na):\n",
    "            eas += ene(xas[i], xas[j])\n",
    "    for i in range(nb):\n",
    "        for j in range(i+1, nb):\n",
    "            ebs += ene(xbs[i], xbs[j])\n",
    "    for i in range(na):\n",
    "        for j in range(nb):\n",
    "            eabs += ene(xas[i], xbs[j])\n",
    "    ee = eas/(na*(na-1))+ebs/(nb*(nb-1))-eabs/(na*nb)\n",
    "    return ee\n",
    "\n",
    "def experiment():\n",
    "    xas = stats.norm.rvs(loc=mu0, size=n)\n",
    "    xbs = stats.norm.rvs(loc=mu1, size=n)\n",
    "    return (xas, xbs)\n",
    "\n",
    "dsets = [experiment() for i in range(m)]\n",
    "\n",
    "enes0 = np.array([total_ene(dsets[i][0], dsets[m-1-i][0]) for i in range(m)])\n",
    "enes1 = np.array([total_ene(iset[0], iset[1]) for iset in dsets])\n",
    "\n",
    "fig, ax = plt.subplots()\n",
    "\n",
    "# emin = np.min(np.min(enes0), np.min(enes1))\n",
    "# emax = np.max(np.max(enes0), np.max(enes1))\n",
    "ax.hist(enes0, bins=50, normed=True, range=(np.min(enes0), np.max(enes0)), color='blue', alpha=0.5, label='H0')\n",
    "ax.hist(enes1, bins=50, normed=True, range=(np.min(enes1), np.max(enes1)), color='red', alpha=0.5, label='H1' )\n",
    "ax.set_xlabel('energy', fontsize=14)\n",
    "ax.set_ylabel('pdf', fontsize=14)\n",
    "ax.legend(fontsize=14);"
   ]
  },
  {
   "cell_type": "markdown",
   "metadata": {},
   "source": [
    "### pdf of the test statistics from permutations\n",
    "\n",
    "To compute the p-value we need to know the pdf of the test statistics, $f(t|H_0)$. For the $\\chi^2$ test, it is just a $\\chi^2$ distribution with $n$ degrees of freedom. But in many other cases, in particular in the n-dimensional cases, we have to do MC datasets to obtain the pdf. \n",
    "\n",
    "One possibility is to use permutations of the samples of the datasets. In the case that both datasets, $A, \\,B$, are identical, any mixture of them is algo a dataset of the same model. We then can generate $m$ datasets doing permutations, by selecting randomly samples from both datasets, compute the test statistics, and computing its pdf distribution. \n",
    "\n",
    "Notice that this works because we are considering that both datasets are identical!, that is the p-value definition: what is the fraction of datasets with equal or worse test-statistics than the observed one if both datasets are identical."
   ]
  },
  {
   "cell_type": "markdown",
   "metadata": {},
   "source": [
    "**Exercise:** Generate two datasets with $n$ samples of a 2d normal distribution. Compute a test-statistics and get its distribution using permutations."
   ]
  },
  {
   "cell_type": "markdown",
   "metadata": {},
   "source": [
    "## Bibliography\n",
    "\n",
    "[1] \"Practical Statistic for LHC physicist,\" H. B. Prosper, CERN Academic Training Lectures (2015). https://indico.cern.ch/event/358542/ https://arxiv.org/pdf/1504.00945.pdf\n",
    "\n",
    "[2] \"Statistic for HEP,\" G. Cowan. CERN Academic Training Lectures (2012). http://indico.cern.ch/event/173726/\n",
    "\n",
    "[3] \"Statistics for Particle Physics,\" K. Cranmer, CERN Academic Training Lectures (2009). \n",
    "https://indico.cern.ch/event/48425/\n",
    "\n",
    "[4] \"Unified approach to the classical statistical analysis of small signals, \"G. J. Feldman and R. D. Cousins, Phys. Rev. D57 (1998) 3873. http://journals.aps.org/prd/abstract/10.1103/PhysRevD.57.3873\n",
    "\n",
    "[5] “Asymptotic formulae for likelihood-based tests of new physics,” Glen Cowan, Kyle Cranmer, Eilam Gross, Ofer Vitells. Eur. Phys. J. C71 1554 (2011). https://arxiv.org/abs/1007.1727\n",
    "\n",
    "[6] \"Incorporating systematic uncertainties into an upper limit,\" R.D. Cousins and V.L. Highland. Nucl. Instrum. Meth. A320, 331 (1992). http://www.sciencedirect.com/science/article/pii/0168900292907945\n",
    "\n",
    "[7] \"Confidence Level Computation for Combining Searches with Small Statistics,\" T. Junk, Nucl. Instrum. Meth. A434, 435 (1999). https://arxiv.org/abs/hep-ex/9902006  \n",
    "\n",
    "[8] \"How good are your fits? Unbinned multivariate goodness-of-fit tests in high energy physics,\" M. Willians, https://arxiv.org/abs/1006.3019\n",
    "\n",
    "[9] ROOT https://root.cern.ch, TMVA http://tmva.sourceforge.net, RooFit https://root.cern.ch/roofit\n",
    "\n",
    "[10] Anaconda https://anaconda.org, SciPy https://www.scipy.org, NumPy http://www.numpy.org, http://scikit-learn.org/stable/, http://matplotlib.org\n"
   ]
  }
 ],
 "metadata": {
  "anaconda-cloud": {},
  "kernelspec": {
   "display_name": "Python [Root]",
   "language": "python",
   "name": "Python [Root]"
  },
  "language_info": {
   "codemirror_mode": {
    "name": "ipython",
    "version": 2
   },
   "file_extension": ".py",
   "mimetype": "text/x-python",
   "name": "python",
   "nbconvert_exporter": "python",
   "pygments_lexer": "ipython2",
   "version": "2.7.12"
  }
 },
 "nbformat": 4,
 "nbformat_minor": 0
}
