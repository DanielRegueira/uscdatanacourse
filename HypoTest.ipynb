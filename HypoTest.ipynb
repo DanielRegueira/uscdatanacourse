{
 "cells": [
  {
   "cell_type": "markdown",
   "metadata": {
    "nbpresent": {
     "id": "b0bdc0c5-2495-4e0e-9793-ed5facd68637"
    }
   },
   "source": [
    "# Hypothesis testing\n",
    "\n",
    "\n",
    "**Course: \"Introduction to data analysis methods for HEP\"**\n",
    "\n",
    "*Author: Jose A. Hernando*, January 2017\n",
    "\n",
    "*Particle Physics Deparment. Universidade de Santiago de Compostela, Spain.*"
   ]
  },
  {
   "cell_type": "markdown",
   "metadata": {},
   "source": [
    "These is a series of lectures on Data Analysis for High Energy Physics. Emphasis is put on Hypothesis testing and Confidence Intervals. They are based on the excellent lectures on statistics by Prosper [1], Cowan [2] and Cranmer[3] given at CERN Academic Training.\n",
    "\n",
    "The most common data analysis packages in HEP are ROOT, RooFit and TMVA [8]. But we will use the Python scientic toolkits, Matplotlib, Numpy, Scipy, Scikit-learn [9] that are distributed with Anaconda Python [9]. \n",
    "\n",
    "Structure of the course:\n",
    "1. General Concepts: probability density functions and likelihoods. Frequentist and bayesian statistics\n",
    "2. Hypothesis testings: test statistic. Continuous hypothesis. CLs method.\n",
    "3. Confidence Interval: Classical and F.C. intervals.\n",
    "4. MVA: Classification and Regression\n",
    "5. Regression: Likelihood estimation.\n",
    "\n",
    "Structure of the chapter:\n",
    "0. Introduction\n",
    "1. Hypothesis testing\n",
    "2. Significance and power\n",
    "3. Discovery and rejection\n",
    "4. Composite hypothesis\n",
    "5. Nuisance parameters\n",
    "6. CLs method\n",
    "7. Bayesian approach"
   ]
  },
  {
   "cell_type": "code",
   "execution_count": 1,
   "metadata": {
    "collapsed": true,
    "nbpresent": {
     "id": "ad5486f8-4654-482a-b15c-f0d4e5c76937"
    }
   },
   "outputs": [],
   "source": [
    "# general imports\n",
    "%matplotlib inline\n",
    "\n",
    "# numpy and matplotlib\n",
    "import numpy as np\n",
    "import pandas as pd\n",
    "import matplotlib\n",
    "import matplotlib.pyplot as plt\n",
    "import scipy.stats as stats\n",
    "\n",
    "# possible styles: ggplot (simplicity), bmh (scientify data), \n",
    "matplotlib.style.use('ggplot')\n",
    "\n",
    "# ploting images\n",
    "from IPython.display import display, Image"
   ]
  },
  {
   "cell_type": "code",
   "execution_count": 2,
   "metadata": {
    "collapsed": false,
    "nbpresent": {
     "id": "b2443ab4-16fc-4851-bb80-c90a0c6d6dee"
    }
   },
   "outputs": [
    {
     "name": "stdout",
     "output_type": "stream",
     "text": [
      " Last Execution  Mon Feb 13 17:30:52 2017\n"
     ]
    }
   ],
   "source": [
    "import time\n",
    "\n",
    "print ' Last Execution ', time.asctime()"
   ]
  },
  {
   "cell_type": "markdown",
   "metadata": {
    "nbpresent": {
     "id": "8b1a3799-c81d-4bc0-86e1-3fb15503aa79"
    }
   },
   "source": [
    "----"
   ]
  },
  {
   "cell_type": "markdown",
   "metadata": {
    "nbpresent": {
     "id": "03b78c78-a17e-4c7f-85e5-2f054ba3ac70"
    }
   },
   "source": [
    "## Introduction\n",
    "\n",
    "\n",
    "Is there a new particle (a Susy partner!) in my data sample? Is this a Higgs boson? A Dark matter candidate? What are the methods to claim a discovery? When do reject a new theory? These are the questions related with hypothesis testing.\n",
    "\n",
    "In the Neyman's approach, we are confronted with (at least) two competing hypothesis: the well established one (the boring, resilient SM in HEP!), called null hypothesis, $H_0$, and the alternative one (the exiting, awaited New Physics!), $H_1$.\n",
    "\n",
    "We will construct first a real variable, called test-statistic, that order the possible measurements as more $H_0$ or $H_1$ type. Our observation will lay in a position in that scale.\n",
    "\n",
    "In some cases, the $H_1$ hypothesis is continous (the strength of a new signal), and the exclusion or discovery of the new signal is closely related with the definition of Confidence Integrals at a given Confidel Level.\n"
   ]
  },
  {
   "cell_type": "markdown",
   "metadata": {
    "nbpresent": {
     "id": "43e100ca-3a5e-4321-b30a-75ba56b43367"
    }
   },
   "source": [
    "----"
   ]
  },
  {
   "cell_type": "markdown",
   "metadata": {
    "nbpresent": {
     "id": "3841b030-0070-4827-b90e-1ddb0c7e3e74"
    }
   },
   "source": [
    "## 1. Test statistic\n",
    "\n",
    "The **test estatistics**, $t(x)$, is a real scalar quantity that quantifies how compatible is our measurement, $x$, with the null, $H_0$, and the alternative, $H_1$, hypotheses. We will consider that as $t(x)$ values increases, they indicate a better agreement with $H_1$ than with $H_0$. But notice that this is just an ordering convention!\n",
    "\n",
    "The optimal test statistic is the likelihood ratio:\n",
    "\n",
    "$$\n",
    "\\lambda(x) = \\frac{ f(x \\, | \\, H_0)}{ f(x \\, | \\, H_1)}. \n",
    "$$\n",
    "\n",
    "where $f(x|H_0)$ is the pdf of $x$ under the $H_0$ hypothesis (same for $f(x|H_1$) and $H_1$).\n",
    "\n",
    "We will use for convenience reasons the quantity, $q(x)$, as test-statistic:\n",
    "\n",
    "$$\n",
    "q(x) = -2 \\ln \\, \\lambda(x).\n",
    "$$\n",
    "\n",
    "In many cases, we do not know the pdfs and we can not compute the likelihood ratio. Simetimes the problem is a multi-dimensional one, and difficult to get the pdfs. In those cases, several multi-variate methods, such as Neural Networks, Boosted Decision Trees, are used to provide a test statistic (see MVA chapter for classification problems).\n"
   ]
  },
  {
   "cell_type": "markdown",
   "metadata": {
    "nbpresent": {
     "id": "614260a3-f2b7-41ac-bab7-3f27221c62c3"
    }
   },
   "source": [
    "**Example:** An experiment expects to measure a quantity, $x$, gaussian distributed with $\\mu_0$, $\\sigma_0$, that is $H_0$. But, if a given model, $H_1$, is correct, $x$ will be distributed following a gaussian with different parameters $\\mu_1$ and $\\sigma_1$. Draw the distribution of the test-statistic, $q(x)$, for $H_0$ and $H_1$ samples, using  $\\mu_0 = 0, \\, \\sigma_0 = 1, \\, \\mu_1 = 4, \\, \\sigma_1 = 1$."
   ]
  },
  {
   "cell_type": "code",
   "execution_count": 3,
   "metadata": {
    "collapsed": false,
    "nbpresent": {
     "id": "e2c6911d-d7b5-4bc5-b7b5-4aacf1f5e16c"
    }
   },
   "outputs": [
    {
     "data": {
      "image/png": "[encoded data removed]",
      "text/plain": [
       "<matplotlib.figure.Figure at 0x103d6fcd0>"
      ]
     },
     "metadata": {},
     "output_type": "display_data"
    }
   ],
   "source": [
    "# the test-statistic function\n",
    "def q(x, mu1=4., s1=1., mu0=0., s0=1.):\n",
    "    return (x-mu0)*(x-mu0)/(s0*s0) - (x-mu1)*(x-mu1)/(s1*s1)\n",
    "\n",
    "# hipothesis\n",
    "h0 = stats.norm(0., 1.)\n",
    "h1 = stats.norm(4., 1.)\n",
    "\n",
    "# m-experiments for both hypothesis\n",
    "m = 1000000\n",
    "x0s = h0.rvs(size=m)\n",
    "x1s = h1.rvs(size=m)\n",
    "\n",
    "# the q-values for the m-experiments of both hypothesis\n",
    "q0s = q(x0s) \n",
    "q1s = q(x1s)\n",
    "\n",
    "# draw the pdf of q, f(q), for both hypothesis\n",
    "fig, ax = plt.subplots(figsize=(6, 4))\n",
    "bins = 50\n",
    "\n",
    "ax.hist(q0s, bins=bins, normed=True, range=(-50., 50.), color='blue', lw=2, \n",
    "        alpha=0.5, label='$H_0$');\n",
    "ax.hist(q1s, bins=bins, normed=True, range=(-50., 50.), color='red', lw=2,\n",
    "        alpha=0.5, label='$H_1$')\n",
    "ax.set_ylabel('$f(q)$', fontsize=16)\n",
    "ax.set_xlabel('$q$', fontsize=16)\n",
    "ax.legend(fontsize=16)\n",
    "fig.savefig('figs/ht_gauss.png');"
   ]
  },
  {
   "cell_type": "markdown",
   "metadata": {
    "nbpresent": {
     "id": "285ab068-3282-460b-a021-01bc47b5f6a6"
    }
   },
   "source": [
    "**Question:** What do you think about what is most likely $H_0$ or $H_1$ if we measure 0? And if we measure -2, 2, and 6? \n",
    "\n",
    "\n",
    "**Question:** Discuss what happens when the distributions overlap and when they do not.\n",
    "\n",
    "**Example:** Consider as null hypothhsis a poisson distribution with $b=4$, background events, and an alternative hypotesis, a signal, $s=4$, on top of the background. \n"
   ]
  },
  {
   "cell_type": "code",
   "execution_count": 4,
   "metadata": {
    "collapsed": false,
    "nbpresent": {
     "id": "271e0508-27bd-465c-aeaf-9d93495cff5b"
    }
   },
   "outputs": [
    {
     "data": {
      "image/png": "[encoded data removed]",
      "text/plain": [
       "<matplotlib.figure.Figure at 0x114163910>"
      ]
     },
     "metadata": {},
     "output_type": "display_data"
    }
   ],
   "source": [
    "# the test-statistic function\n",
    "def q(n, b=4, s=4.):\n",
    "    return 2*n*(np.log(b+s)-np.log(b))\n",
    "\n",
    "# hipothesis\n",
    "b, s = 4, 10\n",
    "h0 = stats.poisson(b)\n",
    "h1 = stats.poisson(b+s)\n",
    "\n",
    "# ns: list of possible events\n",
    "ns = np.arange(30)\n",
    "\n",
    "# plot the pms for the qs values associated to the events ns, \n",
    "# for both hypothesis\n",
    "fig, ax = plt.subplots(figsize=(6, 6))\n",
    "ax.bar(q(ns), h0.pmf(ns), color='blue', alpha=0.5, label='$H_0$')\n",
    "ax.bar(q(ns), h1.pmf(ns), color='red', alpha=0.5, label='$H_1$')\n",
    "ax.set_ylabel('$f(q)$', fontsize=16)\n",
    "ax.set_xlabel('$q$', fontsize=16)\n",
    "ax.legend(fontsize=16)\n",
    "fig.savefig('figs/ht_poisson.png')"
   ]
  },
  {
   "cell_type": "markdown",
   "metadata": {
    "nbpresent": {
     "id": "0da93dea-2f38-407a-a1da-d95868af5553"
    }
   },
   "source": [
    "**Exercise:** Consider an experiment that measures $m$-values, for the background only hypothesis, the number of expected events is $b_i, \\, i=1, \\, \\dots, m$, and if there is signal, in addition, we expect $s_i \\, i = \\, 1, \\dots, m$. Define the test statistic and compute the pdf for the case when ${\\bf b} = (2, 1.5, 1, 0.5) $ and ${\\bf s} = (1, 2, 2, 1)$."
   ]
  },
  {
   "cell_type": "markdown",
   "metadata": {
    "nbpresent": {
     "id": "3c2bc7e4-65f8-43a1-94e9-c57c82218d19"
    }
   },
   "source": [
    "**Exercise:** Consider an experiment that measure $(x_1, \\, x_2)$. If there is only background, $x_i, \\; i=1,\\,2$ are distributed with a exponential with $\\xi_i, \\, i=1, \\, 2$. If there is signal, it is distributed with a two gaussians with parameters $(\\mu_1, \\, \\sigma_1)$ for $x_1$, and $(\\mu_2, \\,\\sigma_2)$ for $x_2$. Only positive values are allowed. Define the test statistics and compute its pdf for both hypothesis, consider $\\xi_{1,\\, 2} = 1$, $\\mu_{1, \\, 2} = 5$ and $\\sigma_{1,2} = 1$."
   ]
  },
  {
   "cell_type": "markdown",
   "metadata": {
    "nbpresent": {
     "id": "2ed92466-3a5f-4aec-8cbf-017327c70bd8"
    }
   },
   "source": [
    "----"
   ]
  },
  {
   "cell_type": "markdown",
   "metadata": {
    "nbpresent": {
     "id": "fd167f21-280d-4c3f-ba5c-01cd6a1ee4f2"
    }
   },
   "source": [
    "## 2. Significance and power of a test\n",
    "\n",
    "\n",
    "In order to classify events into $H_0$ or $H_1$ using a cut, $k$, on the test statistics.\n",
    "\n",
    "$$\n",
    "t(x) < k\n",
    "$$\n",
    "\n",
    "If the test statistics is the likelihood ratio:\n",
    "\n",
    "$$\n",
    "\\frac{f(x | H_0)}{ f(x | H_1)} < k\n",
    "$$\n",
    "\n",
    "A measurement, $x0$, with a $t_0 = t(x_0)$, is classified as $H_0$ if $t_0  < k $ and as $H_1$ if $t_0 \\ge k$. This is known as the Neyman's approach. \n",
    "\n",
    "We define the **significance** (also called size) of the test, $\\alpha$: \n",
    "\n",
    "$$\n",
    "\\alpha = \\int_{t_c}^{\\infty} t(x \\, | \\, H_0) \\, \\mathrm{d}x\n",
    "$$\n",
    "\n",
    "this is also called *error of 1st kind* and **p-value** of $H_0$. Its the probability of false positives!\n",
    "\n",
    "The p-values is the probability that we get an outcome with equal or less comptability with a given hypothesis.\n",
    "\n",
    "And:\n",
    "\n",
    "$$\n",
    "\\beta = \\int_{-\\infty}^{t_c} t(x \\, | \\, H_1) \\, \\mathrm{d}x\n",
    "$$\n",
    "\n",
    "It is the *error of 2nd kind* or the *p-value* of $H_1$. $1-\\beta$ is the **power** of the test, the fraction of events classified as $H_1$ when $H_1$ is true. The true positives!\n",
    "\n",
    "The **Neyman-Person lemma** stablish that the optimal test statistic is the **likelihood ratio**. Optimal indicates that we obtain the maximum power for a fix significance of the test. "
   ]
  },
  {
   "cell_type": "markdown",
   "metadata": {
    "nbpresent": {
     "id": "f3a7d2d2-e581-4e1f-bf31-fda81c790d69"
    }
   },
   "source": [
    "**Question:** What p-value you consider \"reasonable\" to reject a given hypothesis?\n",
    "    \n",
    "**Example**: In the case of the two gaussian, $H_0$ a normal gaussian, and $H_1$ a gaussian with $\\mu = \\, 4, \\, \\sigma = \\, 1$. If we measure 2. What the p-value with respect $H_0$ and $H_1$? What is the significance and power of th test?\n",
    "Repeat the questions if we measure 0 or 4."
   ]
  },
  {
   "cell_type": "code",
   "execution_count": 5,
   "metadata": {
    "collapsed": false,
    "nbpresent": {
     "id": "55461985-ce0c-4d80-af16-83546fd567cb"
    }
   },
   "outputs": [
    {
     "name": "stdout",
     "output_type": "stream",
     "text": [
      "alpha, p value of H0 for x 2.0:  2.29 %\n",
      "beta, p value of H1 for x 2.0:  2.26 %\n",
      "significance 0.023 and power 0.977 of the test \n"
     ]
    },
    {
     "data": {
      "image/png": "[encoded data removed]",
      "text/plain": [
       "<matplotlib.figure.Figure at 0x119eabbd0>"
      ]
     },
     "metadata": {},
     "output_type": "display_data"
    }
   ],
   "source": [
    "# the test-statistic function\n",
    "def q(x, mu1=4., s1=1., mu0=0., s0=1.):\n",
    "    return (x-mu0)*(x-mu0)/(s0*s0) - (x-mu1)*(x-mu1)/(s1*s1)\n",
    "\n",
    "# hipothesis\n",
    "h0 = stats.norm(0., 1.)\n",
    "h1 = stats.norm(4., 1.)\n",
    "\n",
    "# m-experiments for both hypothesis\n",
    "m = 1000000\n",
    "x0s = h0.rvs(size=m)\n",
    "x1s = h1.rvs(size=m)\n",
    "\n",
    "# the q-values for the m-experiments of both hypothesis\n",
    "q0s = q(x0s) \n",
    "q1s = q(x1s)\n",
    "\n",
    "x = 2\n",
    "q0 = q(x)\n",
    "alpha = 1.*len([qi for qi in q0s if qi >= q0])/(1.*m)\n",
    "beta = 1*len([qi for qi in q1s if qi<=q0])/(1.*m)\n",
    "\n",
    "print 'alpha, p value of H0 for x {:3.1f}: {:5.2f} %'.format(x, 100.*alpha)\n",
    "print 'beta, p value of H1 for x {:3.1f}: {:5.2f} %'.format(x, 100*beta)\n",
    "print 'significance {:5.3f} and power {:5.3f} of the test '.format(alpha, 1.-beta)\n",
    "\n",
    "\n",
    "# draw the pdfs of the test statatistics for both hypothesis \n",
    "# and the area under alpha and beta\n",
    "fig, ax = plt.subplots(figsize=(6, 5))\n",
    "bins = 100\n",
    "q0contents, xedges = np.histogram(q0s, bins=bins, range=(-50., 50.))\n",
    "q1contents, xedges = np.histogram(q1s, bins=bins, range=(-50., 50.))\n",
    "xcenters = 0.5*(xedges[1:]+xedges[:-1])\n",
    "xwidth = 0.5*(xedges[1]-xedges[0])\n",
    "ids_alpha = np.where(xcenters >= q0)\n",
    "ids_beta = np.where(xcenters <= q0)\n",
    "ax.plot(xcenters, q0contents/(m*xwidth), color='blue', lw=2, \n",
    "        alpha=0.5, label='$H_0$')\n",
    "ax.plot(xcenters, q1contents/(m*xwidth), color='red', lw=2, \n",
    "        alpha=0.5, label='$H_1$')\n",
    "ax.fill_between(xcenters[ids_alpha], 0., q0contents[ids_alpha]/(m*xwidth), \n",
    "                color='blue', alpha=0.5, label=r'$\\alpha$')\n",
    "ax.fill_between(xcenters[ids_beta], 0., q1contents[ids_beta]/(m*xwidth), \n",
    "                color='red', alpha=0.5, label=r'$\\beta$')\n",
    "ax.plot((q0, q0), (0., 0.11), color='black', label='$q(x_0)$')\n",
    "ax.set_ylabel('$f(q)$', fontsize=16)\n",
    "ax.set_xlabel('$q$', fontsize=16)\n",
    "ax.set_ylim(0., 0.11)\n",
    "ax.legend()\n",
    "fig.savefig('figs/ht_gauss_sizepower.png');"
   ]
  },
  {
   "cell_type": "markdown",
   "metadata": {
    "nbpresent": {
     "id": "c728a564-189f-4c98-8891-39170977a837"
    }
   },
   "source": [
    "**Example:** Compute the power and significance."
   ]
  },
  {
   "cell_type": "code",
   "execution_count": 6,
   "metadata": {
    "collapsed": false,
    "nbpresent": {
     "id": "f9b7401d-d46c-46ec-88b4-20bfd0d52016"
    }
   },
   "outputs": [
    {
     "data": {
      "image/png": "[encoded data removed]",
      "text/plain": [
       "<matplotlib.figure.Figure at 0x11a704e90>"
      ]
     },
     "metadata": {},
     "output_type": "display_data"
    }
   ],
   "source": [
    "# the size vs power\n",
    "ids = np.arange(bins)\n",
    "size = [np.sum(q0contents[id:])/(1.*m) for id in ids]\n",
    "power = [np.sum(q1contents[id:])/(1.*m) for id in ids]\n",
    "\n",
    "fig, ax = plt.subplots(figsize=(6, 4))\n",
    "\n",
    "ax.plot(ids, size, color='blue', lw=2, label='significance')\n",
    "ax.plot(ids, power, color='red', lw=2, label='power')\n",
    "ax.set_xlabel('$q(x)$', fontsize=16)\n",
    "ax.grid(True)\n",
    "ax.set_yscale('log')\n",
    "ax.legend(loc=2);\n",
    "fig.savefig('figs/ht_gauss_sizevspower.png')"
   ]
  },
  {
   "cell_type": "markdown",
   "metadata": {
    "nbpresent": {
     "id": "29fce9a4-e192-488e-a24a-e339615b68c1"
    }
   },
   "source": [
    "----"
   ]
  },
  {
   "cell_type": "markdown",
   "metadata": {
    "nbpresent": {
     "id": "dca918e6-eeda-49a5-bf63-7d7e4593a8b4"
    }
   },
   "source": [
    "## 3. Discovery and rejection\n",
    "\n",
    "Conventions in HEP:\n",
    "\n",
    "* We claim **discovery**, reject $H_0$, if its p-value is lower that 5-sigmas, $\\alpha < \\, 2.87 \\times 10^{-7}$. Notice that there is a heated debate about the '5-$\\sigma$s'! It is also normal practice to call **observation** if we reject $H_0$ at 3 sigmas. \n",
    "* Set an **exclusion** on $H_1$ at 90 \\% (95 \\%) confidence level, CL, if its p-value, $\\beta < \\, 0.10 \\, (0.05)$.\n",
    "* We define the **sensititivy** of an experiment as the expected exclusion of $H_1$ at a given CL (i.e 90 %), and its discovery potential.\n",
    "\n",
    "Notice that the discovery makes reference to $H_0$ p-value, while, exclusion does to $H_1$. \n",
    "We will say later (when we dicuss the CLs method) that this could present problems if the experiment has no enough senstivity. \n"
   ]
  },
  {
   "cell_type": "markdown",
   "metadata": {
    "nbpresent": {
     "id": "19d7e813-cdc2-4ec7-8c43-f8d22cf8ba4e"
    }
   },
   "source": [
    "**Exercise:** An experiment expects $(2, 1)$ background events in two bins, and a possible signal $(8, 9)$ on top. It observes $(9, 9)$, can claim discovery?\n",
    "\n",
    "**Exercise:** In the case it observes $(1, 1)$, can reject the signal at 95 % CL?\n",
    "\n",
    "**Exercise:** A second experiment expects $(0.5, 0.3)$ background events for the same signal. What are its prospects to discover the signal or to discart it at 95 % CL?"
   ]
  },
  {
   "cell_type": "markdown",
   "metadata": {
    "nbpresent": {
     "id": "a690eefb-2be1-47d9-a5b2-2b82ca73809d"
    }
   },
   "source": [
    "----"
   ]
  },
  {
   "cell_type": "markdown",
   "metadata": {
    "nbpresent": {
     "id": "7a51d248-ab99-4db8-8cad-f38f21a9fd3d"
    }
   },
   "source": [
    "## 4 Composite hypothesis\n",
    "\n",
    "Often the $H_1$ hypothesis is not complete, it depends on several parameters. A typical example if searching for a new signal with a unkown cross-section. We resume the unknown into a parameter, $\\mu$, that quantifies the strength of the signal.\n",
    "If a model, $H_1$, predict $s$ events, the value $\\mu \\,s$ covers an interval of hypothesis, when $\\mu=0$, we recuperate the case $H_0$, or only background, and when $\\mu=1$, we have $H_1$.\n",
    "\n",
    "In this case, we can treat the scalar parameter $\\mu$ and repeat the search for different $\\mu$ values. But this can be a tedious process that requieres large computations. "
   ]
  },
  {
   "cell_type": "markdown",
   "metadata": {
    "nbpresent": {
     "id": "fd994b19-bfe4-47e4-9b0b-b0608e652de4"
    }
   },
   "source": [
    "**Exercise** An experiment search for a new signal expected $s=2$ according with SM, in a background $b=0.4$, but the strength of the signal can be 10 times more. If there is no signal, what is the expected limit in units of $\\mu$. If there is signal, can we clain observation?"
   ]
  },
  {
   "cell_type": "markdown",
   "metadata": {
    "nbpresent": {
     "id": "f33c702a-6dda-450b-bd04-2d63c4955e21"
    }
   },
   "source": [
    "### 4.1 Profile likelihood ratio for test statitiscs\n",
    "\n",
    "We can use instead the **profile likelihood ratio**:\n",
    "\n",
    "$$\n",
    "\\lambda(\\mu) = \\frac{f(x \\, | \\, \\mu)}{ f(x \\, | \\, \\hat{\\mu})}\n",
    "$$\n",
    "\n",
    "as a test statistict (where $\\hat{\\mu}$ is the best estimate of $\\mu$, using $x$ data).\n",
    "This profile likelihood ratio is not likelihood ratio, nevertheless, in most of the cases, it is close to optimal, that is has close to maximum power for a given size of the test.\n",
    "\n",
    "We can now define the test statistic à la **Feldman-Cousins** [4]:\n",
    "\n",
    "$$\n",
    "t_\\mu = -2 \\ln \\lambda(\\mu)\n",
    "$$\n",
    "\n",
    "That has the nice property, that the pdf of $t_\\mu$, $f(t_\\mu \\, | \\, \\mu')$ (where $\\mu'$ is the true value), is known. In the relevant case where $\\mu' = \\mu$ (in particular $\\mu = \\mu' = 0$),  it reduces, thanks to **Wilks' theoreme**, to a $\\chi^2$ distribution with one defree of freedom (dof)! To see this, just notice that we can approximate $t_\\mu \\sim \\left( \\frac{\\mu - \\hat{\\mu}}{\\sigma} \\right)^2$, where $\\sigma$ is the rms of $\\hat{\\mu}$, and as the average of $E[\\hat{\\mu}] = \\mu'$, it follows that if $\\mu = \\mu'$ we then get a $\\chi^2$ distribution. In other way, we can read $t_\\mu$ as: consider $\\mu$ as a possible true value, and we have a best estimate $\\hat{\\mu}$ from the observation, $t_\\mu $ is the ratio of the likelihood of the best estimate with respect our poosible true. In the case in which we consider $\\mu$ is *really* the true value, the pdf of $t_\\mu$ is a $\\chi^2$.\n",
    "\n",
    "There is in addition simple relation between the value of $t_\\mu$ and its p-value:\n",
    "\n",
    "$$\n",
    "p_\\mu = 2 \\, (1 - \\Phi(\\sqrt{t_\\mu}))\n",
    "$$\n",
    "\n",
    "where $\\Phi(x)$ is the comulative function of a normal gaussian.\n",
    "\n",
    "To reject the background we will compare our observation with respect $\\mu=0$, while to reject a signal we will compare for the full range of $\\mu$, and reject that region where $p_\\mu < \\beta$ (tipically $\\beta = 0.05$ or 95 % CL). "
   ]
  },
  {
   "cell_type": "markdown",
   "metadata": {
    "nbpresent": {
     "id": "cd3172c0-1283-4ad4-a4e5-3ed178a53c6a"
    }
   },
   "source": [
    "**Example:** Consider the case of an experiment that measures 10 points of an expected gaussian with sigma 1 and mean $b\\, +\\, \\mu \\, s$, where $b=0$, $s=4$ and $\\mu$ is the strengh parameters. Generate $m$ (large) experiments, as true $\\mu=0$ and compute the FC test-statistic $t_\\mu$. Do the same generating events for $\\mu=1$. Verify that the distribution follows a $\\chi^2$ pdf."
   ]
  },
  {
   "cell_type": "code",
   "execution_count": 7,
   "metadata": {
    "collapsed": false,
    "nbpresent": {
     "id": "daef9866-c944-44e5-9198-0a776e47aace"
    }
   },
   "outputs": [
    {
     "data": {
      "image/png": "[encoded data removed]",
      "text/plain": [
       "<matplotlib.figure.Figure at 0x11a8a6410>"
      ]
     },
     "metadata": {},
     "output_type": "display_data"
    }
   ],
   "source": [
    "b, s, mutrue, mu = 0., 4., 0., 0.\n",
    "sigma = 1\n",
    "size = 10\n",
    "m = 10000\n",
    "\n",
    "h0 = stats.norm(b+mutrue*s, sigma)\n",
    "\n",
    "def experiment():\n",
    "    return h0.rvs(size)\n",
    "\n",
    "def muhat(x):\n",
    "    shat = np.mean(x)\n",
    "    return (shat-b)/s\n",
    "\n",
    "def ll(x, mu):\n",
    "    dx = np.array([(xi-(b+mu*s))/sigma for xi in x])\n",
    "    return -0.5*np.sum(dx*dx)\n",
    "\n",
    "def tmu(x, mu=0):\n",
    "    muh = muhat(x)\n",
    "    return 2.*(ll(x, muh)-ll(x, mu))\n",
    "\n",
    "xs = [experiment() for i in range(m)]\n",
    "muhats = [muhat(xi) for xi in xs]\n",
    "\n",
    "ts = np.array([tmu(xi, mu) for xi in xs])\n",
    "\n",
    "fig, ax = plt.subplots()\n",
    "\n",
    "ax.hist(ts, bins=50, normed=True, range=(0., 15.), label='$t_s$')\n",
    "chi2 = stats.chi2(1)\n",
    "xaxis = np.linspace(0., 15, 100) \n",
    "ax.plot(xaxis, chi2.pdf(xaxis), color='black', lw=2, label='$\\chi^2$')\n",
    "ax.set_yscale('log')\n",
    "ax.set_xlabel('$t_s$', fontsize=16)\n",
    "ax.set_ylabel('$f(t_s)$', fontsize=16)\n",
    "ax.legend(fontsize=16);\n",
    "fig.savefig('figs/ht_ts_chi2.png')"
   ]
  },
  {
   "cell_type": "markdown",
   "metadata": {
    "nbpresent": {
     "id": "ca6c5d7d-72dc-46e7-b316-238ecbd2ef42"
    }
   },
   "source": [
    "\n",
    "Consider the case where $\\mu' = 0$. The measurement of extreme values of $\\hat{\\mu}$ either very low or vert high will result in a large $t_\\mu$, but the low values do not challenge the null hypothesis, only the large positive do! For that reason, in order to check the agreement with the null hypothesis, we introduce the following test-statistic [5]:\n",
    "\n",
    "$$\n",
    "q_0 = \\left\\{ \\begin{array}{ll} \n",
    "-2 \\ln \\lambda(0) & \\mbox{if $\\hat \\mu >0$} \\\\\n",
    "0 & \\mbox{if $\\hat \\mu \\le 0$}\n",
    "\\end{array} \\right.\n",
    "$$\n",
    "\n",
    "where negative values of $\\hat{\\mu}$ do not produce large $q_0$, they are just 0. The $f(q_0 \\, | 0)$, will be now a \"half\" $\\chi^2$ distribution. \n",
    "$q_0$ now reads as the ratio of the expected likelihood if the null hypothesis is true with respect the likelihood of the best estimation if this is positive.\n",
    "\n",
    "In this case there is even a simple relation with the p-value of the null-hypothesis (rejection).\n",
    "\n",
    "$$\n",
    "p_0 = 1-\\Phi(\\sqrt{q_0})\n",
    "$$\n",
    "\n",
    "That translate directly into number of sigmas, $Z$:\n",
    "$$\n",
    "Z = \\sqrt{q_0}\n",
    "$$\n",
    "\n",
    "Now, to set a limit on the value of $\\mu$, again in $t_\\mu$ the $\\mu'$ fluctuations, low or high respect to $\\mu$, produce large values of $t_\\mu$, but here, only the low values challenge the alternative hypothesis. To remove the high values, we take the following test-statistic:\n",
    "\n",
    "$$\n",
    "q_\\mu = \\left\\{ \\begin{array}{ll} \n",
    "-2 \\ln \\lambda(\\mu) & \\mbox{if $\\hat{\\mu} \\le \\mu$} \\\\\n",
    "0 & \\mbox{if $\\hat{\\mu} \\gt \\mu$}\n",
    "\\end{array} \\right.\n",
    "$$\n",
    "\n",
    "That read as the ratio of the likelihood of the expected alternative hypothesis with the likelihood of the best estimate, if this one is smaller than the alternative. Again this will produce a \"half\" $\\chi^2$ distribution.\n",
    "\n",
    "The p-value is then very simple:\n",
    "$$\n",
    "p_\\mu = 1 - \\Phi(\\sqrt{q_\\mu})\n",
    "$$"
   ]
  },
  {
   "cell_type": "markdown",
   "metadata": {
    "nbpresent": {
     "id": "6bed7def-d8e1-4f01-ba39-d699c034fa8d"
    }
   },
   "source": [
    "**Example:** Using the above example, get the distribution of $f(q_0 \\, | 0)$, and $f(q_\\mu \\, | \\, \\mu)$. Verify that they are \"half\" $\\chi^2$ distributions."
   ]
  },
  {
   "cell_type": "code",
   "execution_count": 8,
   "metadata": {
    "collapsed": false,
    "nbpresent": {
     "id": "06d98302-00f8-4d79-9ad5-660d734a7684"
    }
   },
   "outputs": [
    {
     "data": {
      "image/png": "[encoded data removed]",
      "text/plain": [
       "<matplotlib.figure.Figure at 0x11a710290>"
      ]
     },
     "metadata": {},
     "output_type": "display_data"
    }
   ],
   "source": [
    "b, s, mu = 0, 4, 1.\n",
    "sigma , size= 1, 10\n",
    "\n",
    "def qmu(x, mu):\n",
    "    muh = muhat(x)\n",
    "    if (muh > mu): \n",
    "        return 0.\n",
    "    return 2.*(ll(x, muh)-ll(x, mu))\n",
    "\n",
    "def q0(x):\n",
    "    muh = muhat(x)\n",
    "    if (muh <0): \n",
    "        return 0.\n",
    "    return 2.*(ll(x, muh)-ll(x, 0.))\n",
    "\n",
    "h0 = stats.norm(b, sigma)\n",
    "h1 = stats.norm(b+mu*s, sigma)\n",
    "\n",
    "x0s = [h0.rvs(size) for i in range(m)]\n",
    "xmus = [h1.rvs(size) for i in range(m)]\n",
    "\n",
    "q0s = np.array([q0(xi) for xi in x0s])\n",
    "qmus = np.array([qmu(xi, mu) for xi in xmus])\n",
    "\n",
    "fig, axs = plt.subplots(2, 1, figsize=(6, 6))\n",
    "ax0, ax1 = axs[0], axs[1]\n",
    "\n",
    "ax0.hist(q0s, bins=50, normed=True, range=(0., 10.), alpha=0.5, color='blue')\n",
    "ax0.set_xlabel('$q_0$')\n",
    "ax0.set_ylabel('$f(q_0|0)$')\n",
    "ax0.set_yscale('log')\n",
    "ax1.hist(qmus, bins=50, normed=True, range=(0., 10.), alpha=0.5, color='red')\n",
    "ax1.set_ylabel('$q_\\mu$')\n",
    "ax1.set_ylabel('$f(q_\\mu| \\mu)$')\n",
    "ax1.set_yscale('log');\n",
    "\n",
    "fig.tight_layout()"
   ]
  },
  {
   "cell_type": "markdown",
   "metadata": {
    "nbpresent": {
     "id": "a455d904-3fbe-4a12-a1f2-1c8fa63e718c"
    }
   },
   "source": [
    "**Example:** Consider an planned experiment, that will obtaine 4 measurements. The background is a normal gaussian $\\mu_0 = 0, \\; \\sigma_0=1$, and the signal a gaussian with $\\mu_1=3, \\sigma _1=1$. If the signal is realized, will the median value of $q_0$ be enough to observe the signal?"
   ]
  },
  {
   "cell_type": "code",
   "execution_count": 9,
   "metadata": {
    "collapsed": false,
    "nbpresent": {
     "id": "525a9dc4-0bae-4e5c-ae1e-056dab928092"
    }
   },
   "outputs": [
    {
     "name": "stdout",
     "output_type": "stream",
     "text": [
      "q0 at median f(q0|H1) :35.75\n",
      "number of sigmas, Z :  5.98\n"
     ]
    },
    {
     "data": {
      "image/png": "[encoded data removed]",
      "text/plain": [
       "<matplotlib.figure.Figure at 0x11a710110>"
      ]
     },
     "metadata": {},
     "output_type": "display_data"
    }
   ],
   "source": [
    "mu0, mu1, sigma = 1, 3, 1\n",
    "nmeas = 4\n",
    "mexpe = 1000\n",
    "\n",
    "h0 = stats.norm(mu0, sigma)\n",
    "h1 = stats.norm(mu1, sigma)\n",
    "\n",
    "def experiment(h):\n",
    "    return np.array(h.rvs(nmeas))\n",
    "\n",
    "x0s = np.array([experiment(h0) for i in range(mexpe)])\n",
    "x1s = np.array([experiment(h1) for i in range(mexpe)])\n",
    "\n",
    "def muhat(xi):\n",
    "    return np.mean(xi)\n",
    "\n",
    "def q0(xi):\n",
    "    mu = muhat(xi)\n",
    "    if (mu < 0):\n",
    "        return 0.\n",
    "    dx2 = xi*xi-(xi-mu)*(xi-mu)\n",
    "    return np.sum(dx2)\n",
    "\n",
    "q00s = np.array([q0(xi) for xi in x0s])\n",
    "q01s = np.array([q0(xi) for xi in x1s])\n",
    "\n",
    "q01s.sort()\n",
    "qmed = q01s[len(q01s)/2]\n",
    "print 'q0 at median f(q0|H1) :{:5.2f}'.format(qmed)\n",
    "print 'number of sigmas, Z : {:5.2f}'.format(np.sqrt(qmed))\n",
    "\n",
    "fig, ax = plt.subplots()\n",
    "ax.hist(q01s, bins=40, normed=True, alpha=0.5, color='red', label='$H_0$');\n",
    "ax.hist(q00s, bins=40, normed=True, alpha=0.5, color='blue', label='$H_1$')\n",
    "ax.plot((qmed, qmed), (0., 1.), color='black', label='$q_0$ median')\n",
    "ax.set_xlabel('$q_0$', fontsize=16)\n",
    "ax.set_ylabel('$f(q_0)$', fontsize=16)\n",
    "ax.set_yscale('log')\n",
    "ax.legend(fontsize=16);\n",
    "fig.savefig('figs/ht_q0_median.png')"
   ]
  },
  {
   "cell_type": "markdown",
   "metadata": {
    "nbpresent": {
     "id": "72dc290c-5abc-481d-ab04-03bfba7f0f04"
    }
   },
   "source": [
    "---"
   ]
  },
  {
   "cell_type": "markdown",
   "metadata": {
    "nbpresent": {
     "id": "5759e1ec-75c1-48d7-a056-3674ab3e4f7d"
    }
   },
   "source": [
    "## 5. Nuissance parameters \n",
    "\n",
    "A nuisance parameter, $\\theta$ is a parameter that enters in the definition of the pdf or likelihood but we are not interested on it. The pdf is $f(x \\, | \\, \\mu, \\theta)$, were $\\mu$ is the parameter of interest, adn $\\theta$ the nuisance parameter. In most case, we have an estimation of the parameter, $\\hat{\\theta}$ and its uncertainty $\\sigma_\\theta$. And we encounter the problem of how to incorporate its uncertainty into the calculation of the limits.\n",
    "\n",
    "One possibility is use the Causin-Highland method [ref], also known as a bayesian-frequentist hybrid method.\n",
    "\n",
    "If we know the pdf of the nuisance parameter: $\\pi(\\theta)$, we can marginalize its effect [6]:\n",
    "\n",
    "$$\n",
    "f(x \\, | \\, \\mu) = \\int f( x \\, | \\, \\mu, \\theta) \\, \\pi(\\theta) \\, \\mathrm{d}\\theta\n",
    "$$\n",
    "\n",
    "where here $\\mu$, is the parameter of interest. Its common to take $\\pi(\\theta)$ as a gaussian with mean $\\hat{\\theta}$ and sigma $\\sigma_\\theta$.\n",
    "\n",
    "In this case, as we marginalize the pdf, we are introducing a bayesian approach. This method is a hybrid: frequentist-bayesian.\n"
   ]
  },
  {
   "cell_type": "markdown",
   "metadata": {
    "nbpresent": {
     "id": "910b5fdd-8bd7-4c24-a2e7-fcd10c64c805"
    }
   },
   "source": [
    "**Exercise:** Consider the case of an experiment that expects $b=2 \\pm 0.2$ background events, and search for a signal $s=5$. What is the effect of the uncertainty on $b$ in the expected 95% CL limit?"
   ]
  },
  {
   "cell_type": "markdown",
   "metadata": {
    "nbpresent": {
     "id": "ec123021-6415-46a8-b79f-508e0e25f28d"
    }
   },
   "source": [
    "### 5.1 Profile likelihood test statistics\n",
    "\n",
    "Another possibility, is to extend the likelihood to estimate the nuisance parameter, $\\theta$, and use a profile likelihood ratio.\n",
    "\n",
    "$$\n",
    "\\lambda(\\mu) = \\frac{f(x \\, | \\mu \\, \\hat{\\theta}(\\mu))}{ f(x \\, | \\, \\hat{\\mu}, \\hat{\\theta} )}\n",
    "$$\n",
    "\n",
    "where $\\hat{\\theta}$ is the best estimate using the likelihood data $x$, and $\\hat{\\theta}(\\mu)$ is the best estimate when fixing $\\mu$.\n",
    "\n",
    "\n",
    "And use the test statistics $q_0$ for discovery and $q_\\mu$ for exclusion.\n",
    "\n",
    "This is the method most used in LHC searches [5]."
   ]
  },
  {
   "cell_type": "markdown",
   "metadata": {
    "nbpresent": {
     "id": "86c5b979-5fef-43d7-a853-631dd7187b7a"
    }
   },
   "source": [
    "**Example:** Consider an experiment that search for a signal $b+\\mu \\, s$, where $s=10$, and the background is measured in a independent region, called \"control\", where there is no signal, with expected events $\\tau b$, whith $\\tau=1$. Consider $b$ as the nuisance parameter. The experiment repeat 4 times the measurement and the results are: $(1, 4, 1, 2)$ events in the control sample and $(4, 6, 6, 5)$ in the signal. What is the range of $\\mu$ excluded at 95 % CL. Compute $q_0$, is there a discovery? \n",
    "\n",
    "\n",
    "This is a prototype of a search. The pdf is:\n",
    "\n",
    "$$\n",
    "f(n, \\, m \\, | \\, \\mu, \\, b) = \\frac{(b+\\mu \\,s)^n \\, e^{-(b+\\mu\\,s)}}{n!} \\, \\frac{(\\tau \\, b)^m \\, e^{-\\tau \\, b}}{m!}\n",
    "$$\n",
    "\n",
    "where $\\mu$ is the parameter of interest, and $b$ the nuisance parameter, $m$ the events in the control region and $n$ the events in the signal region. \n"
   ]
  },
  {
   "cell_type": "code",
   "execution_count": 10,
   "metadata": {
    "collapsed": false,
    "nbpresent": {
     "id": "5c058c4e-5fee-4eda-834f-a419aebedd07"
    }
   },
   "outputs": [
    {
     "name": "stdout",
     "output_type": "stream",
     "text": [
      " signal events  [6 8 8 4]\n",
      " control events  [2 2 1 1]\n",
      " bhat  1.5  muhat  0.5\n",
      " best estimate mu : 0.500\n",
      " best estimate b :  1.50\n",
      " q0: 13.476, Z0 (n-sigmas): 3.671, p-value: 1.21e-04\n"
     ]
    },
    {
     "data": {
      "image/png": "[encoded data removed]",
      "text/plain": [
       "<matplotlib.figure.Figure at 0x11a704a50>"
      ]
     },
     "metadata": {},
     "output_type": "display_data"
    }
   ],
   "source": [
    "import math\n",
    "import scipy.misc as misc\n",
    "import scipy.optimize as optimize\n",
    "\n",
    "b, s, tmu = 2, 10, 0.5\n",
    "tau = 1.\n",
    "nmeas = 4\n",
    "\n",
    "# generate the events\n",
    "ms = stats.poisson.rvs(tau*b, size=nmeas)\n",
    "ns = stats.poisson.rvs(b+tmu*s, size=nmeas)\n",
    "\n",
    "print ' signal events ', ns\n",
    "print ' control events ', ms\n",
    "bshat, bhat = np.mean(ns), np.mean(ms)\n",
    "muhat = (bshat-bhat)/s\n",
    "print ' bhat ', bhat, ' muhat ', muhat\n",
    "\n",
    "# The likelihood function\n",
    "def llike(ns, ms, mu, b):\n",
    "    if np.any(b+mu*s < 0.):\n",
    "        return 1e20\n",
    "    if np.any(tau*b < 0):\n",
    "        return 1e20\n",
    "    pns = stats.poisson.pmf(ns, b+mu*s)\n",
    "    pms = stats.poisson.pmf(ms, tau*b)\n",
    "    return -2.*np.sum(np.log(pns))-2.*np.sum(np.log(pms))\n",
    "\n",
    "# Return the best estimate for the relevant and nuisance parameters\n",
    "def hat(ns, ms, mu, b):\n",
    "    ps0 = np.array([mu, b])\n",
    "    def fun_fit(ps):\n",
    "        return llike(ns, ms, ps[0], ps[1])\n",
    "    result = optimize.minimize(fun_fit, ps0, method='Nelder-Mead')\n",
    "    return result.x\n",
    "\n",
    "# Return the best estimate for the nuisance parameter \n",
    "# when fixing the relevant one\n",
    "def hhat(ns, ms, mu, b):\n",
    "    ps0 = np.array([b])\n",
    "    def fun_fit(ps):\n",
    "        return llike(ns, ms, mu, ps[0])\n",
    "    result = optimize.minimize(fun_fit, ps0, method='Nelder-Mead')\n",
    "    return result.x\n",
    "\n",
    "# Return the ts test-status\n",
    "def ts(ns, ms, mu, muhat, bhat):\n",
    "    b0 = bhat\n",
    "    bhhat = hhat(ns, ms, mu, b0)\n",
    "    return llike(ns, ms, mu, bhhat) - llike(ns, ms, muhat, bhat)\n",
    "\n",
    "# Return the qs test-stats\n",
    "def qs(ns, ms, mu, muhat, bhat):\n",
    "    if (muhat > mu): \n",
    "        return 0.\n",
    "    b0 = bhat\n",
    "    bhhat = hhat(ns, ms, mu, b0)\n",
    "    return llike(ns, ms, mu, bhhat) - llike(ns, ms, muhat, bhat)\n",
    "    \n",
    "# return the q0 test-stats\n",
    "def q0(ns, ms, mu0, b0):\n",
    "    muhat, bhat = hat(ns, ms, mu0, b0)\n",
    "    if (muhat <= 0.): \n",
    "        return 0.\n",
    "    bhhat = hhat(ns, ms, 0., bhat)\n",
    "    return llike(ns, ms, 0., bhhat) - llike(ns, ms, muhat, bhat)\n",
    "    \n",
    "def pvalue(q):\n",
    "    return 1.-stats.norm.cdf(np.sqrt(q))\n",
    "\n",
    "# get the results\n",
    "muhat, bhat = hat(ns, ms, 1., 1.)\n",
    "print ' best estimate mu : {:5.3f}'.format(muhat)\n",
    "print ' best estimate b : {:5.2f}'.format(bhat)\n",
    "\n",
    "q0val = q0(ns, ms, 0., bhat)\n",
    "p0val = pvalue(q0val)\n",
    "print ' q0: {:5.3f}, Z0 (n-sigmas): {:5.3f}, p-value: {:1.2e}'.format(q0val, \n",
    "                                                                      np.sqrt(q0val), p0val)\n",
    "\n",
    "mus = np.linspace(0., 1., 100.)\n",
    "tss = np.array([ts(ns, ms, imu, muhat, bhat) for imu in mus])\n",
    "qss = np.array([qs(ns, ms, imu, muhat, bhat) for imu in mus]) \n",
    "bss = np.array([hhat(ns, ms, imu, bhat) for imu in mus])\n",
    "# print 'mus ', mus\n",
    "# print 'tss ', tss\n",
    "# print 'qss ', qss\n",
    "# print 'q0 ', q0val\n",
    "pqssval = pvalue(qss) \n",
    "ptssval = 2.*pvalue(tss)\n",
    "\n",
    "# plot results\n",
    "\n",
    "fig, axs = plt.subplots(2, 2, figsize=(8, 8))\n",
    "\n",
    "ax0, ax1, ax2, ax3 = axs.ravel()\n",
    "\n",
    "ax0.plot(mus, bss, color='blue', lw=2, alpha=0.5)\n",
    "ax0.set_xlim(-0.1, 1.1)\n",
    "ax0.plot(muhat, bhat, marker='*', markersize=10, \n",
    "         color='blue', label='$\\hat{\\mu}, \\, \\hat{b}$')\n",
    "ax0.set_xlabel('$\\mu$')\n",
    "ax0.set_ylabel('$b$', color='blue')\n",
    "ax0.legend()\n",
    "ax0b = ax0.twinx()\n",
    "lls = np.array([llike(ns, ms, imu, ib) for imu, ib in zip(mus, bss)])\n",
    "ax0b.plot(mus, lls, color='black', lw=2, alpha=0.5)\n",
    "ax0b.set_ylabel('log likehihood')\n",
    "ax0.set_title('likelihood and $\\hat{b}(\\mu)$ vs $\\mu$')\n",
    "\n",
    "ax1.plot(mus, tss, color='blue', lw=2, alpha=0.5, label='$t_\\mu$ (FC)')\n",
    "ax1.plot(mus, qss, color='red', lw=2, alpha=0.5, label='$q_\\mu$')\n",
    "ax1.plot(0., q0val, marker='*', markersize=10, color='blue', label='$q_0$')\n",
    "ax1.plot(muhat, 0., marker='o', markersize=10, color='red', \n",
    "         label='$\\hat{\\mu}$')\n",
    "ax1.set_xlim(-0.1, 1.1)\n",
    "ax1.set_ylim(-0.1, np.max(tss)+0.1)\n",
    "ax1.legend(fontsize=10, loc=2)\n",
    "ax1.set_xlabel('$\\mu$')\n",
    "ax1.set_ylabel('$t_s$')\n",
    "ax1.set_title('$t_(\\mu)$, $q_\\mu(\\mu)$ and $q_0$ vs $\\mu$')\n",
    "\n",
    "ax2.plot(mus, pqssval, alpha=0.5, lw=2, color='red', label = r'$q_\\mu$')\n",
    "ax2.set_xlim(-0.1, 1.1)\n",
    "ax2.plot(0., p0val, alpha=0.5, color='blue',\n",
    "         marker='*', markersize=10, label='$q_0$')\n",
    "ax2.plot((0., 1.), (0.1, 0.1), alpha=0.5, lw=2, color='black', ls=':',\n",
    "        label=r'$q_\\mu=0.1$')\n",
    "ax2.set_xlabel('$\\mu$')\n",
    "ax2.set_ylabel('p-value')\n",
    "ax2.set_title('upper limit exclusion')\n",
    "ax2.legend()\n",
    "\n",
    "ax3.plot(mus, ptssval, alpha=0.5, lw=2, color='red', label=r'$t_s$')\n",
    "ax2.set_xlim(-0.1, 1.1)\n",
    "ax3.plot((0., 1.), (0.1, 0.1), alpha=0.5, lw=2, color='black', ls=':', \n",
    "        label=r'$t_s$=0.1')\n",
    "#ax3.plot((0., 1.), (0.95, 0.95), alpha=0.5, lw=2, color='black', ls=':')\n",
    "ax3.set_xlabel('$\\mu$')\n",
    "ax3.set_ylabel('CL')\n",
    "ax3.legend()\n",
    "ax3.set_title('confidence level (FC)')\n",
    "\n",
    "fig.tight_layout()\n",
    "fig.savefig('figs/ht_qmu_nuisance.png')"
   ]
  },
  {
   "cell_type": "markdown",
   "metadata": {
    "nbpresent": {
     "id": "287e983b-72a1-4613-afcc-c3c1ab61dd18"
    }
   },
   "source": [
    "---"
   ]
  },
  {
   "cell_type": "markdown",
   "metadata": {
    "collapsed": true,
    "nbpresent": {
     "id": "64460482-4923-4181-a234-2b0826f24577"
    }
   },
   "source": [
    "## 6. The CLs method\n",
    "\n",
    "In some cases the $H_1$ hypothesis is 'weak' compared with $H_0$ and the distributions of the test statistic $g(q(x \\, | \\, H_0)$ and $g(q (x \\, | \\,H_1) $ overlap. \n",
    "\n",
    "Consider the example of $H_0$ as a poisson of $b$ expected events, $b=4$, and the signal $s=0.5$ events. You can see that the pdfs of the test statistics for $b=4, \\, s+b=4.5$ mostly overlap! (see next cell)\n",
    "\n",
    "If we measure, for example, $n \\, = \\,1$, the p-value for $H_1$ is $0.061$, bellow 1%. Do we exclude the signal at 99% CL? In principle yes. But the probability to accept $H_0$ with that observation, $1-\\alpha$, is lower than 99%! Both values are two small. It will be more prudent to not reject $H_1$! As in fact the experiment has no enough sensitivity.\n",
    "\n",
    "The CLs method [7] was developed to prevent these cases.\n",
    "\n",
    "In the CLs method we rename the p-value of $H_1$ as: \n",
    "$$\n",
    "CL_{s+b} \\equiv \\beta = p_{b+s},\n",
    "$$\n",
    "\n",
    "and the probability to accept $H_0$:\n",
    "$$\n",
    "CL_{b} \\equiv 1 - \\alpha = 1-p_b,\n",
    "$$\n",
    "\n",
    "where $p_{s+b}$ is the p-value of $H_1$ and $p_b$ the p-value of $H_0$. \n",
    "Notice that by construction, $CL_b \\ge CL_{s+b}$, the probability to accept $H_0$ is always greater than to reject $H_1$."
   ]
  },
  {
   "cell_type": "code",
   "execution_count": 11,
   "metadata": {
    "collapsed": false,
    "nbpresent": {
     "id": "f975605e-50af-4b2b-b346-6987f9fdeb3b"
    }
   },
   "outputs": [
    {
     "name": "stdout",
     "output_type": "stream",
     "text": [
      "q(n=1) = 0.24\n",
      "CLb, 1-p-value of H0 : 0.092 \n",
      "CLsb, beta or p-value of H1 : 0.061 \n",
      "CLs for n : 0.667\n"
     ]
    },
    {
     "data": {
      "image/png": "[encoded data removed]",
      "text/plain": [
       "<matplotlib.figure.Figure at 0x11bb28350>"
      ]
     },
     "metadata": {},
     "output_type": "display_data"
    }
   ],
   "source": [
    "# the test-statistic function\n",
    "def q(n, b=4, s=0.5):\n",
    "    return 2*n*(np.log(b+s)-np.log(b))\n",
    "\n",
    "# hipothesis\n",
    "b, s = 4, 0.5\n",
    "h0 = stats.poisson(b)\n",
    "h1 = stats.poisson(b+s)\n",
    "\n",
    "# ns: list of possible events\n",
    "nmax = 21\n",
    "n0 = 1\n",
    "\n",
    "# as q(n) follows the same order of n, use only n\n",
    "CLb = np.sum(h0.pmf(np.arange(0, n0+1)))\n",
    "CLbs = np.sum(h1.pmf(np.arange(0, n0+1)))\n",
    "\n",
    "print 'q(n={:d}) = {:4.2f}'.format(n0, q(n0))\n",
    "print 'CLb, 1-p-value of H0 : {:5.3f} '.format(CLb)\n",
    "print 'CLsb, beta or p-value of H1 : {:5.3f} '.format(CLbs)\n",
    "print 'CLs for n : {:5.3f}'.format(CLbs/CLb)\n",
    "\n",
    "# plot the pms for the qs values associated to the events ns, for both hypothesis\n",
    "fig, ax = plt.subplots(figsize=(6, 6))\n",
    "ns = np.arange(nmax)\n",
    "ax.plot(q(ns), h0.pmf(ns), color='blue', lw=2, alpha=0.5, label='$H_0$')\n",
    "ax.plot(q(ns), h1.pmf(ns), color='red', lw=2, alpha=0.5, label='$H_1$')\n",
    "nsp = np.arange(0, n0+1)\n",
    "ax.fill_between(q(nsp), 0., h0.pmf(nsp), color='blue', alpha=0.5, label=r'$CL_b$')\n",
    "ax.fill_between(q(nsp), 0., h1.pmf(nsp), color='red', alpha=0.5, label=r'$CL_{s+b}$')\n",
    "ax.set_ylabel('$f(q)$', fontsize=16)\n",
    "ax.set_xlabel('$q$', fontsize=16)\n",
    "ax.legend(fontsize=16)\n",
    "fig.savefig('figs/ht_cls_intro.png')"
   ]
  },
  {
   "cell_type": "markdown",
   "metadata": {
    "nbpresent": {
     "id": "7367c126-acad-4115-81e5-f7db8d2b275c"
    }
   },
   "source": [
    "\n",
    "Instead of using $\\beta$ to reject $H_1$, we aply the CL cut on the value:\n",
    "\n",
    "$$\n",
    "CL_s \\equiv \\frac{CL_{s+b}}{CL_b} = \\frac{\\beta}{1-\\alpha}\n",
    "$$\n",
    "\n",
    "A cut, $\\xi$, i.e 5% ($\\xi=0.05)$, on $CL_s$ implies to reject $H_1$ is the probability of find $H_1$ with equal or worse compatibility, is a fraction, $\\xi$ of the probability of find $H_0$ with equal or better compatibility. \n",
    "\n",
    "In the example, $\\beta = 0.06$, $H_1$ will be excluded at 99 % CL. But $CL_s \\, = \\, 0.67$, it is larger than 0.01 (exclusion at 99 % CL), and therefore, the $H_1$ is not excluded at 99 %CL (according with the CLs method). A more sensible result!\n",
    "\n",
    "The CLs method penalize experiments without enough sensitivity to exclude alternative hypothesis! In the case that $H_1$ is well separated compared with $H_0$ a cut on $CL_s$ is equivalent to a cut on $\\beta$!\n",
    "\n",
    "The CLs method has been criticized as conservative, but still it is commonly used."
   ]
  },
  {
   "cell_type": "code",
   "execution_count": 12,
   "metadata": {
    "collapsed": false,
    "nbpresent": {
     "id": "039cac1a-ccef-4bb5-9406-cc1450a1a1a3"
    }
   },
   "outputs": [
    {
     "data": {
      "image/png": "[encoded data removed]",
      "text/plain": [
       "<matplotlib.figure.Figure at 0x11bb5dc10>"
      ]
     },
     "metadata": {},
     "output_type": "display_data"
    }
   ],
   "source": [
    "b = 4\n",
    "s = 0.5\n",
    "nmax = 20\n",
    "\n",
    "h0 = stats.poisson(b)\n",
    "h1 = stats.poisson(b+s)\n",
    "\n",
    "def CLs(n):\n",
    "    clb = np.sum(h0.pmf(np.arange(0, n+1)))\n",
    "    clsb = np.sum(h1.pmf(np.arange(0, n+1)))\n",
    "    return clsb/clb\n",
    "\n",
    "def beta(n):\n",
    "    return np.sum(h1.pmf(np.arange(0, n+1)))\n",
    "\n",
    "fig, ax0 = plt.subplots(figsize=(6, 6))\n",
    "\n",
    "ns = np.arange(nmax)\n",
    "ps0 = h0.pmf(ns)\n",
    "ps1 = h1.pmf(ns)\n",
    "cls = np.array([CLs(ni) for ni in ns])\n",
    "betas = np.array([beta(ni) for ni in ns])\n",
    "\n",
    "ax0.bar(ns, ps0, color='blue', alpha=0.5, label='$H_0$')\n",
    "ax0.bar(ns, ps1, color='red', alpha=0.5, label='$H_1$')\n",
    "ax0.set_xlabel('$n$', fontsize=16)\n",
    "ax0.set_ylabel('$g(n)$', fontsize=16)\n",
    "ax0.legend(loc=2)\n",
    "\n",
    "ax0b = ax0.twinx()\n",
    "ax0b.plot(ns+0.4, cls, color='black', marker='s', label=r'$CLs$')\n",
    "ax0b.plot(ns+0.4, betas, color='green', marker='o', label=r'$p_{b+s}$')\n",
    "ax0b.set_ylim(0., 1.1)\n",
    "ax0b.legend(loc=1)\n",
    "ax0b.set_ylabel('p-value', fontsize=16)\n",
    "fig.savefig('figs/ht_cls.png');"
   ]
  },
  {
   "cell_type": "markdown",
   "metadata": {
    "nbpresent": {
     "id": "414f4b85-d8d8-4d44-91e8-a81b2f3b6aff"
    }
   },
   "source": [
    "**Exercise:** Compute the CLs for the $b$ only hypothesis. Compute it now for the case of $b=4$ and $s=8$! If we observe a value in the median of the $b$ only hypothesis, do we exclude the hypothetical signal at 90% CL? "
   ]
  },
  {
   "cell_type": "markdown",
   "metadata": {},
   "source": [
    "---"
   ]
  },
  {
   "cell_type": "markdown",
   "metadata": {},
   "source": [
    "## Bayesian approach\n",
    "\n",
    "Let's now consider hypothesis testing through Bayesian statistics.\n",
    "We want now to compute:\n",
    "\n",
    "$$\n",
    "p(H_1 \\, | \\, x), \\, p(H_0 \\, | \\, x)\n",
    "$$\n",
    "\n",
    "the probability (degree of belief) of the $H_1, \\; H_0$ hypothesis if we measure $x$.\n",
    "\n",
    "Using Bayes' theorem, the probability of an hypothesis is:\n",
    "$$\n",
    "p(H \\, | \\, x ) = \\frac{p(x \\, |\\,  H) \\pi(H)}{p(x)} \n",
    "$$\n",
    "\n",
    "Where $\\pi(H)$, is the prior probability (degree of belief) of $H$. And,  $p(x)$, the probability to get the data considering all hypothesis, that is $p(x)$ = \\sum_i p( x \\, | \\, H_i) \\, \\pi(H_i)$, the sum over the probability of getting that data over all the possible hypothesis.\n",
    "\n",
    "\n",
    "In general, with a Bayesian treatament, we proceed in the following steps:\n",
    "1. Estimate the priors of the relevant, $\\mu$, parameters, the nuisance, $\\theta$ paremeters, $\\pi(\\mu, \\theta | H)$ and the hypothesis prior, $\\pi(H)$, for all hypothesis. We will then marginalize the pdfs respect the parameters.\n",
    "$$\n",
    "p( x \\, | \\, H) = \\int p(x \\, | \\, \\mu, \\theta, H) \\, \\pi(\\mu, \\theta \\, | \\, H) \\mathrm{d} \\mu \\, \\mathrm{d} \\theta\n",
    "$$\n",
    "3. And the compute the probability of each hypothesis, using Bayes' theorem:\n",
    "$$\n",
    "p(H \\, | \\, x) = \\frac{ p(x \\, | \\, H) \\, \\pi(H)}{\\sum_i p(x \\, | \\, H_i) \\, \\pi(H_i)}\n",
    "$$\n",
    "\n",
    "A convenient quantity if the ratio of probabilities:\n",
    "$$\n",
    "\\frac{ p(H_1 | x)}{ p(H_0 | x) } = \\frac{ p(x | H_1)}{ p(x | H_0)} \\, \\frac{\\pi(H_1)}{\\pi(H_0)}\n",
    "$$\n",
    "where the first factor in the left side of the equation is the **Bayers factor**, \n",
    "$$\n",
    "\\frac{ p(x | H_1)}{ p(x | H_0)}\n",
    "$$\n",
    "that tells how much the measurement changes the prior ratio of probabilities between the hypothesis. It can be reinterpreted as $Z$ sigmas in the frequentist approach using the relation:\n",
    "$$\n",
    "Z = \\log(B_{10}) \\sqrt{2 B_{10}}\n",
    "$$\n",
    "\n",
    "\n",
    "And finally we compute:\n",
    "1. The posterior probability of $H$. If there is a continuous hypothesis given by the strength $\\mu$, we compute the posterior probability: $p(\\mu \\, | x)$. \n",
    "2. The confidence level intervals for the relevant parameters (see chapter on CL). In the case of continous hypothesis the CL of $\\mu$.\n",
    "3. The Bayes factor with respect the null hypothesis. $B_{10}(\\mu)$\n",
    "\n",
    "Let's consider two examples: a counting experiment with known background, and a second one where the background is estimated using a control region.\n"
   ]
  },
  {
   "cell_type": "markdown",
   "metadata": {},
   "source": [
    "### Example: counting experiment\n",
    "\n",
    "Consider the case of a counting experiment that expects $b$ background events, and a possible signal $s$ with an unknown strength $\\mu s$. Consider that $b, \\, s$ are known. \n",
    "\n",
    "The likelihood function is a poisson with mean $b+\\mu s$, there is no nuisance parameters, as $b$ is known (in case you can include a delta $\\pi(b) = \\delta(b-b_0)$, where $b_0$ is the known background value). \n",
    "\n",
    "$$\n",
    "f(n \\, | \\mu) = \\frac{(b+\\mu s)^n \\, e^{-(b+\\mu s)}}{n!}\n",
    "$$\n",
    "\n",
    "In order to compute the posterior probability we need the prior for $\\mu$, $\\pi(\\mu)$, that to reflect our ingnorance we take as $\\pi(\\mu)=1$. The posterior is just simple:\n",
    "\n",
    "$$\n",
    "f(\\mu | n) = \\frac{p( n | \\mu) \\, \\pi(\\mu)}{ \\int p(n | \\mu) \\pi(\\mu) \\mathrm{d}\\mu}\n",
    "$$\n",
    "that is:\n",
    "$$\n",
    "f(\\mu | n) = \\frac{(b+\\mu s)^n \\, e^{-(b+\\mu s)}}{m!}\n",
    "$$\n",
    "That we interprect as a $\\Gamma(b+\\mu s, n+1, 1)$ distribution. Remember:\n",
    "$$\n",
    "\\Gamma(x , \\alpha, \\beta) = \\frac{\\beta^\\alpha}{\\Gamma(\\alpha) x^{\\alpha-1} e^{-\\beta x}}\n",
    "$$\n",
    "where $\\Gamma(\\alpha)$ is the Gamma function, the extension to real number of the factorial (i.e $\\Gamma(n) = (n-1)!$).\n",
    "\n",
    "From the posterior we can compute the confidence level (see chapter on CL).\n",
    "\n",
    "The Bayes factor, comparing a hypothesis $\\mu$, with respect the null $\\mu=0$ is:\n",
    "\n",
    "$$\n",
    "B_{10} = \\frac{f(n | b + \\mu s)}{ f(n | b)} = \\frac{(b+\\mu s)^n}{b^n} e^{-\\mu s}\n",
    "$$\n",
    "\n"
   ]
  },
  {
   "cell_type": "markdown",
   "metadata": {},
   "source": [
    "**Example:** Consider an experiment that expects: $b=1$ and $s=8$ and measurement $n=8$.  Compute $p(\\mu | n)$, the 90% CL interval of $\\mu$, and the bayes factor for $\\mu=1$."
   ]
  },
  {
   "cell_type": "code",
   "execution_count": 13,
   "metadata": {
    "collapsed": false
   },
   "outputs": [
    {
     "name": "stdout",
     "output_type": "stream",
     "text": [
      "integral pmu : 1.00 \n",
      "CL interval 95 % : [3.123, 14.751] \n",
      "CL interval 90 % : [3.700, 13.429] \n",
      "CL interval 68 % : [5.069, 10.931] \n",
      "Bayes factor B10 for s : 1.44e+04,  5.14 sigmas\n",
      "\n"
     ]
    },
    {
     "data": {
      "image/png": "[encoded data removed]",
      "text/plain": [
       "<matplotlib.figure.Figure at 0x117064390>"
      ]
     },
     "metadata": {},
     "output_type": "display_data"
    }
   ],
   "source": [
    "b, s = 1, 8\n",
    "n = 8\n",
    "\n",
    "fig, ax = plt.subplots(figsize=(6, 4))\n",
    "\n",
    "mus = np.linspace(0., 3., 1000)\n",
    "dmu = mus[1]-mus[0]\n",
    "pmus = s*dmu*np.array([stats.gamma.pdf(b+mui*s, n+1) for mui in mus])\n",
    "print 'integral pmu : {:4.2f} '.format(np.sum(pmus))\n",
    "\n",
    "# plot the p(mu |n)\n",
    "ax.plot(s*mus, pmus, alpha=0.5, color='red', lw=2, label='$f(\\mu|n)$')\n",
    "ax.set_xlabel('$f(\\mu s|n)$ posterior probability', fontsize=14)\n",
    "\n",
    "# compute CL\n",
    "#def cl_central(mus, pmus, clval):\n",
    "def cl_interval(mus, pmus, clval=68.):\n",
    "    xval = (1-clval/100.)/2.\n",
    "    nmus = len(pmus)\n",
    "    s0s = np.array([np.sum(pmus[0:i+1]) for i in range(0, nmus)])\n",
    "    s1s = np.array([np.sum(pmus[i:]) for i in range(0, nmus)])\n",
    "    # ax.plot(mus, s0s, color='blue')\n",
    "    # ax.plot(mus, s1s, color='black')\n",
    "    i0s = [i for i in range(nmus) if s0s[i] < xval]\n",
    "    ilow = 0\n",
    "    if (len(i0s) > 0):\n",
    "        ilow = i0s[-1]+1\n",
    "    i1s = [i for i in range(1, nmus) if s1s[i] < xval]\n",
    "    iup = nmus-1\n",
    "    if (len(i1s) >0):\n",
    "        iup = i1s[0]-1\n",
    "    #print ilow, mus[ilow], s0s[ilow-1], s0s[ilow]\n",
    "    #print iup, mus[iup], s1s[iup], s1s[iup+1]\n",
    "    return ilow, iup\n",
    "\n",
    "colors = ['yellow', 'green', 'red']\n",
    "for i, cl in enumerate([95., 90., 68.]):\n",
    "    color = colors[i]\n",
    "    i0, i1 = cl_interval(mus, pmus, cl)\n",
    "    print 'CL interval {:d} % : [{:5.3f}, {:5.3f}] '.format(int(cl), s*mus[i0], s*mus[i1])\n",
    "    ax.fill_between(s*mus[i0:i1+1], 0., pmus[i0:i1+1], color=color, alpha=0.4,  \n",
    "                     label='{:d} % CL'.format(int(cl)))\n",
    "\n",
    "ax.legend()\n",
    "# bayes factor\n",
    "b10 = stats.poisson.pmf(n, b+s)/stats.poisson.pmf(n, b)\n",
    "zb10 = np.log(np.sqrt(2*b10))\n",
    "print 'Bayes factor B10 for s : {:4.2e}, {:5.2f} sigmas'.format(b10, zb10)\n",
    "print ''\n",
    "\n"
   ]
  },
  {
   "cell_type": "markdown",
   "metadata": {},
   "source": [
    "### Example: counting experiment with control region\n",
    "\n",
    "Consider now a counting experiment that expects $b+\\mu s$ events in the signal region and $\\tau \\, b$ events in the control region. $s, \\tau$ are know. \n",
    "\n",
    "Here the nuisance parameter is $b$, as $\\tau$, and the relevant parameter is $\\mu$. The pdf distributions are, for the control region, a poisson with mean $\\tau b$ and for the signal region, a second poisson with mean $b+\\mu s$, with $\\mu=0$ for $H_0$ and $\\mu=1$ for $H_1$.  \n",
    "\n",
    "\n",
    "First, se compute $p( n | \\mu s, H_\\mu)$, for that we marginalize the nuisance parameter, with the prior $\\pi(b)$.\n",
    "\n",
    "$$\n",
    "p (n | \\mu s ) = \\int p(n | b+\\mu s) \\, \\pi(b) \\mathrm{d}b\n",
    "$$\n",
    "\n",
    "Where:\n",
    "$$\n",
    "p(n | b+ \\mu s) = \\frac{(b+\\mu s)^n \\, e^{-(b+s)}}{ n!}\n",
    "$$\n",
    "$n$ is poisson distributed with mean $b+\\mu s$\n",
    "\n",
    "Now, $\\pi(b)$, the prior, based on the measurement of $m$ events in the control region. For that we can use: \n",
    "$$\n",
    "\\pi(b | \\, m)  = \\frac{(\\tau b)^m \\, e^{-\\tau b}}{ m!} = \\Gamma(\\tau b, m+1, 1)\n",
    "$$\n",
    "\n",
    "$\\Gamma(x, \\alpha, \\beta)$ (with $x, \\alpha, \\beta$ defined positive) is the gamma distribution. It is usefull when dealing with parameters estimation based on poisson distributions, as is the case.\n",
    "\n",
    "After some calculations, we get:\n",
    "$$\n",
    "p( n | \\mu s) = \\frac{1}{m} \\frac{\\tau^2}{(1+\\tau)^2} \\sum_{r=0}^n \\beta \\left(\\frac{1}{1+\\tau}, r+1, m \\right) \\, \\mathrm{p}(n-r | \\mu s) \n",
    "$$\n",
    "\n",
    "where $p(n-r| \\mu s)$ is the likelihood of a poisson distribution with mean $\\mu s$ with and measurement $n-r$.\n",
    "And $\\beta(x, \\alpha, \\beta)$ (with $p \\in [0.,1]$ anad $\\alpha, \\beta$ defined positive) is the beta distribution:\n",
    "$$\n",
    "\\beta(p, \\alpha, \\beta) = \\frac{\\Gamma (\\alpha+\\beta)}{\\Gamma(\\alpha) \\Gamma(\\beta)} p^{\\alpha-1} (1-p)^{\\beta-1}\n",
    "$$\n",
    "The $\\beta$ distribution is associated with the estimation of a probability $p$. Notice for example that the case $\\alpha=1, \\, \\beta=1$ is a uniform distribution in $p$.\n",
    "\n",
    "Now we can compute the probability of each hypothesis (for $\\mu s$ given the data $n, m$):\n",
    "$$\n",
    "p(\\mu s | n, m ) = \\frac{p(n | \\mu s) \\, \\pi(\\mu s)}{ \\int_\\mu p(n | \\mu s) \\pi(\\mu s)}\n",
    "$$\n",
    "\n",
    "If we take a flat prior, $\\pi(\\mu s) = 1$, to reflect our absence  of \"information\", we get the posterior probability:\n",
    "\n",
    "$$\n",
    "p(\\mu s | n, m ) = \\frac{\\sum_{r=0}^n \\beta(\\frac{1}{1+\\tau}, r+1, m) \\mathrm{p}( n-r | \\mu s)} {\\sum_{r=0}^n \\beta(\\frac{1}{1+\\tau}, r+1, m)} \n",
    "$$\n",
    "\n"
   ]
  },
  {
   "cell_type": "markdown",
   "metadata": {},
   "source": [
    "**Example:** Consider the case $s=8$, a control region with $\\tau=10$, and a measurement $n=8$ in the signal region and $10$ in the control region. Compute $p(\\mu | n, m)$"
   ]
  },
  {
   "cell_type": "code",
   "execution_count": 14,
   "metadata": {
    "collapsed": false
   },
   "outputs": [
    {
     "name": "stdout",
     "output_type": "stream",
     "text": [
      "tau, signal  10.0 8.0\n",
      "m, n  10 8\n",
      " integral prior 1.00\n",
      "CL interval 95 % : [0.556, 1.818] \n",
      "CL interval 90 % : [0.606, 1.717] \n",
      "CL interval 68 % : [0.758, 1.414] \n",
      " integral posterior 1.00\n",
      "CL interval 95 % : [1.939, 17.212] \n",
      "CL interval 90 % : [2.424, 16.000] \n",
      "CL interval 68 % : [3.394, 13.818] \n"
     ]
    },
    {
     "data": {
      "image/png": "[encoded data removed]",
      "text/plain": [
       "<matplotlib.figure.Figure at 0x119f4ed50>"
      ]
     },
     "metadata": {},
     "output_type": "display_data"
    }
   ],
   "source": [
    "tau, s = 10., 8.\n",
    "\n",
    "m, n = 10, 8\n",
    "\n",
    "def ptaub(b, m, tau):\n",
    "    return stats.gamma.pdf(tau*b, m+1)\n",
    "\n",
    "def pnmu(mu, n, m, tau, s):\n",
    "    ptau = 1./(1.+tau)\n",
    "    bs = np.array([stats.beta.pdf(ptau, r+1, m) for r in range(0, n+1)])\n",
    "    ps = np.array([stats.poisson.pmf(n-r, mu*s) for r in range(0, n+1)])\n",
    "    val = ((1.-ptau)*(1.-ptau)/(1.*m))*np.sum(bs*ps)\n",
    "    return val\n",
    "\n",
    "def pmu(mu, n, m, tau, s):\n",
    "    ptau = 1./(1.+tau)\n",
    "    bs = np.array([stats.beta.pdf(ptau, r+1, m) for r in range(n+1)])\n",
    "    ps = np.array([stats.poisson.pmf(n-r, mu*s) for r in range(n+1)])\n",
    "    val = np.sum(bs*ps)/np.sum(bs)\n",
    "    return val\n",
    "\n",
    "\n",
    "fig, axs = plt.subplots(2, 1, figsize=(6, 6))\n",
    "ax0, ax1 = axs.ravel()\n",
    "\n",
    "print 'tau, signal ', tau, s\n",
    "print 'm, n ', m, n\n",
    "\n",
    "# plot the b prior\n",
    "xbs = np.linspace(0., 5., 100)\n",
    "db = xbs[1]-xbs[0]\n",
    "pbs = tau*db*np.array([ptaub(bi, m, tau) for bi in xbs])\n",
    "print ' integral prior {:4.2f}'.format(np.sum(pbs))\n",
    "ax0.plot(xbs, pbs, color='blue', alpha=0.5, lw=2)\n",
    "ax0.set_xlabel(r'$b$', fontsize=14)\n",
    "ax0.set_ylabel(r'$\\pi(b)$ prior probability ', fontsize=14)\n",
    "\n",
    "for i, cl in enumerate([95., 90., 68.]):\n",
    "    color = colors[i]\n",
    "    i0, i1 = cl_interval(xbs, pbs, cl)\n",
    "    print 'CL interval {:d} % : [{:5.3f}, {:5.3f}] '.format(int(cl), xbs[i0], xbs[i1])\n",
    "    ax0.fill_between(xbs[i0:i1+1], 0., pbs[i0:i1+1], color=color, alpha=0.4,  \n",
    "                     label='{:d} % CL'.format(int(cl)))\n",
    "ax0.legend(fontsize=12)\n",
    "\n",
    "mus = np.linspace(0., 3., 100)\n",
    "dmu = mus[1]-mus[0]\n",
    "pnmus = np.array([pnmu(imu, n=n, m=m, tau=tau, s=s) for imu in mus])\n",
    "pmus = np.array([pmu(imu, n=n, m=m, tau=tau, s=s) for imu in mus])\n",
    "print ' integral posterior {:4.2f}'.format(np.sum(pmus)*dmu*s)\n",
    "ax1.plot(s*mus, pnmus, color='green', alpha=0.5, lw=2)\n",
    "ax1.plot(s*mus, pmus, color='red', alpha=0.5, lw=2)\n",
    "\n",
    "colors = ['yellow', 'green', 'red']\n",
    "for i, cl in enumerate([95., 90., 68.]):\n",
    "    color = colors[i]\n",
    "    i0, i1 = cl_interval(mus, pmus, cl)\n",
    "    print 'CL interval {:d} % : [{:5.3f}, {:5.3f}] '.format(int(cl), s*mus[i0], s*mus[i1])\n",
    "    ax1.fill_between(s*mus[i0:i1+1], 0., pmus[i0:i1+1], color=color, alpha=0.4,  \n",
    "                     label='{:d} % CL'.format(int(cl)))\n",
    "ax1.set_xlabel('$\\mu s$', fontsize=14)\n",
    "ax1.set_ylabel('$f(\\mu s | n)$ posterior probability', fontsize=14)\n",
    "ax1.legend(fontsize=12)\n",
    "\n",
    "fig.tight_layout()\n",
    "fig.savefig('figs/ht_bayesian_approach.png')"
   ]
  },
  {
   "cell_type": "markdown",
   "metadata": {},
   "source": [
    "**Exercise:** Compare the results with the Bayesian method, and the frequentist using the profile likelihood ratio as test statistic.\n",
    "\n",
    "**Exercise:** The previous experiment does two measurments: $m_1=10, n_1 = 8$ and $m_2 = 9, n_2 = 9$, compute the bayesian posterior probability $p(\\mu s | x)$ and the bayes factor for $\\mu=1$."
   ]
  },
  {
   "cell_type": "markdown",
   "metadata": {},
   "source": [
    "-----"
   ]
  },
  {
   "cell_type": "markdown",
   "metadata": {},
   "source": [
    "## Bibliography\n",
    "\n",
    "[1] \"Practical Statistic for LHC physicist,\" H. B. Prosper, CERN Academic Training Lectures (2015). https://indico.cern.ch/event/358542/ https://arxiv.org/pdf/1504.00945.pdf\n",
    "\n",
    "[2] \"Statistic for HEP,\" G. Cowan. CERN Academic Training Lectures (2012). http://indico.cern.ch/event/173726/\n",
    "\n",
    "[3] \"Statistics for Particle Physics,\" K. Cranmer, CERN Academic Training Lectures (2009). \n",
    "https://indico.cern.ch/event/48425/\n",
    "\n",
    "[4] \"Unified approach to the classical statistical analysis of small signals, \"G. J. Feldman and R. D. Cousins, Phys. Rev. D57 (1998) 3873. http://journals.aps.org/prd/abstract/10.1103/PhysRevD.57.3873\n",
    "\n",
    "[5] “Asymptotic formulae for likelihood-based tests of new physics,” Glen Cowan, Kyle Cranmer, Eilam Gross, Ofer Vitells. Eur. Phys. J. C71 1554 (2011). https://arxiv.org/abs/1007.1727\n",
    "\n",
    "[6] \"Incorporating systematic uncertainties into an upper limit,\" R.D. Cousins and V.L. Highland. Nucl. Instrum. Meth. A320, 331 (1992). http://www.sciencedirect.com/science/article/pii/0168900292907945\n",
    "\n",
    "[7] \"Confidence Level Computation for Combining Searches with Small Statistics,\" T. Junk, Nucl. Instrum. Meth. A434, 435 (1999). https://arxiv.org/abs/hep-ex/9902006  \n",
    "\n",
    "[8] ROOT https://root.cern.ch, TMVA http://tmva.sourceforge.net, RooFit https://root.cern.ch/roofit\n",
    "\n",
    "[9] Anaconda https://anaconda.org, SciPy https://www.scipy.org, NumPy http://www.numpy.org, Scikit-learn http://scikit-learn.org/stable/, Matplotlib http://matplotlib.org\n"
   ]
  },
  {
   "cell_type": "code",
   "execution_count": null,
   "metadata": {
    "collapsed": true
   },
   "outputs": [],
   "source": []
  }
 ],
 "metadata": {
  "anaconda-cloud": {},
  "kernelspec": {
   "display_name": "Python [Root]",
   "language": "python",
   "name": "Python [Root]"
  },
  "language_info": {
   "codemirror_mode": {
    "name": "ipython",
    "version": 2
   },
   "file_extension": ".py",
   "mimetype": "text/x-python",
   "name": "python",
   "nbconvert_exporter": "python",
   "pygments_lexer": "ipython2",
   "version": "2.7.12"
  },
  "nbpresent": {
   "slides": {
    "03c973b9-a933-4963-883a-b404400e0f61": {
     "id": "03c973b9-a933-4963-883a-b404400e0f61",
     "prev": "abd277d4-bebd-459a-83a0-f2c3e9f41bbe",
     "regions": {
      "a0a32193-b2de-45eb-accf-271aeff98d01": {
       "attrs": {
        "height": 0.8,
        "width": 0.8,
        "x": 0.1,
        "y": 0.1
       },
       "content": {
        "cell": "fd167f21-280d-4c3f-ba5c-01cd6a1ee4f2",
        "part": "whole"
       },
       "id": "a0a32193-b2de-45eb-accf-271aeff98d01"
      }
     }
    },
    "05b90ccd-613d-48c8-8349-76052e91d209": {
     "id": "05b90ccd-613d-48c8-8349-76052e91d209",
     "prev": "53c3fd3a-bb2e-4a1d-a8d0-7f77aa481908",
     "regions": {}
    },
    "0625507a-b45b-4bd4-ae49-dc84776d0d12": {
     "id": "0625507a-b45b-4bd4-ae49-dc84776d0d12",
     "prev": "03c973b9-a933-4963-883a-b404400e0f61",
     "regions": {
      "0db85c93-0528-4078-b2e6-9012b2e79e0b": {
       "attrs": {
        "height": 0.8,
        "width": 0.8,
        "x": 0.1,
        "y": 0.1
       },
       "content": {
        "cell": "f3a7d2d2-e581-4e1f-bf31-fda81c790d69",
        "part": "whole"
       },
       "id": "0db85c93-0528-4078-b2e6-9012b2e79e0b"
      }
     }
    },
    "0af600d2-5e75-4ef0-9419-637561778a9b": {
     "id": "0af600d2-5e75-4ef0-9419-637561778a9b",
     "prev": "05b90ccd-613d-48c8-8349-76052e91d209",
     "regions": {
      "c36eeceb-a679-4e0c-82cf-16f8ee719b08": {
       "attrs": {
        "height": 0.8,
        "width": 0.8,
        "x": 0.1,
        "y": 0.1
       },
       "content": {
        "cell": "8b1a3799-c81d-4bc0-86e1-3fb15503aa79",
        "part": "whole"
       },
       "id": "c36eeceb-a679-4e0c-82cf-16f8ee719b08"
      }
     }
    },
    "14fd8390-cb3c-4721-92f4-1b1d5100702e": {
     "id": "14fd8390-cb3c-4721-92f4-1b1d5100702e",
     "prev": null,
     "regions": {
      "c264fd1f-0c8f-4514-a5e7-c71c35568354": {
       "attrs": {
        "height": 0.8,
        "width": 0.8,
        "x": 0.1,
        "y": 0.1
       },
       "content": {
        "cell": "b0bdc0c5-2495-4e0e-9793-ed5facd68637",
        "part": "whole"
       },
       "id": "c264fd1f-0c8f-4514-a5e7-c71c35568354"
      }
     }
    },
    "1d02906a-e06a-4a1d-a0c0-988f2b6a3645": {
     "id": "1d02906a-e06a-4a1d-a0c0-988f2b6a3645",
     "prev": "cd7f6e46-54bb-400e-8ed0-4b99dafbef7e",
     "regions": {
      "0b861c39-abcc-4ce3-be33-0d4383855383": {
       "attrs": {
        "height": 0.8,
        "width": 0.8,
        "x": 0.1,
        "y": 0.1
       },
       "content": {
        "cell": "6bed7def-d8e1-4f01-ba39-d699c034fa8d",
        "part": "whole"
       },
       "id": "0b861c39-abcc-4ce3-be33-0d4383855383"
      }
     }
    },
    "26d299d9-0cb9-468a-a646-4c99648ef8f5": {
     "id": "26d299d9-0cb9-468a-a646-4c99648ef8f5",
     "prev": "473bde1a-8e4f-44c8-9570-b2f2eaf39991",
     "regions": {
      "c6fd86da-0742-44f5-8676-2a36788ddbed": {
       "attrs": {
        "height": 0.8,
        "width": 0.8,
        "x": 0.1,
        "y": 0.1
       },
       "content": {
        "cell": "ec123021-6415-46a8-b79f-508e0e25f28d",
        "part": "whole"
       },
       "id": "c6fd86da-0742-44f5-8676-2a36788ddbed"
      }
     }
    },
    "28900538-796d-4bd2-921b-00567d8adbe8": {
     "id": "28900538-796d-4bd2-921b-00567d8adbe8",
     "prev": "d9efacc5-46f1-4913-bbbe-59aef63a7e5e",
     "regions": {
      "fd2aff00-5f4e-47f1-929a-16918f044651": {
       "attrs": {
        "height": 0.8,
        "width": 0.8,
        "x": 0.1,
        "y": 0.1
       },
       "content": {
        "cell": "7a51d248-ab99-4db8-8cad-f38f21a9fd3d",
        "part": "whole"
       },
       "id": "fd2aff00-5f4e-47f1-929a-16918f044651"
      }
     }
    },
    "30524962-33e0-442d-a166-8385e3539149": {
     "id": "30524962-33e0-442d-a166-8385e3539149",
     "prev": "4d0fd687-7494-42db-8031-b8aa4f6e8958",
     "regions": {
      "cef579af-c191-4420-9e6d-53188cbb95d1": {
       "attrs": {
        "height": 0.8,
        "width": 0.8,
        "x": 0.1,
        "y": 0.1
       },
       "content": {
        "cell": "cd3172c0-1283-4ad4-a4e5-3ed178a53c6a",
        "part": "whole"
       },
       "id": "cef579af-c191-4420-9e6d-53188cbb95d1"
      }
     }
    },
    "34a1ce81-4b64-40a7-83e8-300aa2aedcc4": {
     "id": "34a1ce81-4b64-40a7-83e8-300aa2aedcc4",
     "prev": "670664b7-a1e1-4d66-8e3f-5d3723286f87",
     "regions": {
      "46ddc3b7-2c51-489b-a95e-9017b70c4c94": {
       "attrs": {
        "height": 0.8,
        "width": 0.8,
        "x": 0.1,
        "y": 0.1
       },
       "content": {
        "cell": "19d7e813-cdc2-4ec7-8c43-f8d22cf8ba4e",
        "part": "whole"
       },
       "id": "46ddc3b7-2c51-489b-a95e-9017b70c4c94"
      }
     }
    },
    "3945d6f7-bc6d-4e9b-865f-f8f513acaa65": {
     "id": "3945d6f7-bc6d-4e9b-865f-f8f513acaa65",
     "prev": "bb5a2ac7-d69b-472f-80f1-0b22b500d6b1",
     "regions": {
      "0536af45-f585-4867-ab8c-b7d492dbca20": {
       "attrs": {
        "height": 0.8,
        "width": 0.8,
        "x": 0.1,
        "y": 0.1
       },
       "content": {
        "cell": "72dc290c-5abc-481d-ab04-03bfba7f0f04",
        "part": "whole"
       },
       "id": "0536af45-f585-4867-ab8c-b7d492dbca20"
      }
     }
    },
    "473bde1a-8e4f-44c8-9570-b2f2eaf39991": {
     "id": "473bde1a-8e4f-44c8-9570-b2f2eaf39991",
     "prev": "8af4880d-b773-4819-a3a7-20c3e747bd38",
     "regions": {
      "beffdeaa-4ee0-4dd8-a621-e2d31c4f1c0c": {
       "attrs": {
        "height": 0.8,
        "width": 0.8,
        "x": 0.1,
        "y": 0.1
       },
       "content": {
        "cell": "910b5fdd-8bd7-4c24-a2e7-fcd10c64c805",
        "part": "whole"
       },
       "id": "beffdeaa-4ee0-4dd8-a621-e2d31c4f1c0c"
      }
     }
    },
    "4d0fd687-7494-42db-8031-b8aa4f6e8958": {
     "id": "4d0fd687-7494-42db-8031-b8aa4f6e8958",
     "prev": "5f00c622-7e01-465c-af95-0e3140f41964",
     "regions": {
      "fde7aa54-b253-473a-9d8f-290b3f381df4": {
       "attrs": {
        "height": 0.8,
        "width": 0.8,
        "x": 0.1,
        "y": 0.1
       },
       "content": {
        "cell": "f33c702a-6dda-450b-bd04-2d63c4955e21",
        "part": "whole"
       },
       "id": "fde7aa54-b253-473a-9d8f-290b3f381df4"
      }
     }
    },
    "520b787c-80d0-468e-a886-a7655a396da5": {
     "id": "520b787c-80d0-468e-a886-a7655a396da5",
     "prev": "52d6cfb9-fbda-441a-9a56-b3a448b2a716",
     "regions": {
      "96a741ba-d88f-4bf7-8f88-caf58d929454": {
       "attrs": {
        "height": 0.8,
        "width": 0.8,
        "x": 0.1,
        "y": 0.1
       },
       "content": {
        "cell": "414f4b85-d8d8-4d44-91e8-a81b2f3b6aff",
        "part": "whole"
       },
       "id": "96a741ba-d88f-4bf7-8f88-caf58d929454"
      }
     }
    },
    "52d6cfb9-fbda-441a-9a56-b3a448b2a716": {
     "id": "52d6cfb9-fbda-441a-9a56-b3a448b2a716",
     "prev": "ff5d273d-624d-4084-9245-d2e63d652d3f",
     "regions": {
      "eca9eec6-f213-4ddf-9b8f-acf70e3855c4": {
       "attrs": {
        "height": 0.8,
        "width": 0.8,
        "x": 0.1,
        "y": 0.1
       },
       "content": {
        "cell": "039cac1a-ccef-4bb5-9406-cc1450a1a1a3",
        "part": "whole"
       },
       "id": "eca9eec6-f213-4ddf-9b8f-acf70e3855c4"
      }
     }
    },
    "53c3fd3a-bb2e-4a1d-a8d0-7f77aa481908": {
     "id": "53c3fd3a-bb2e-4a1d-a8d0-7f77aa481908",
     "prev": "14fd8390-cb3c-4721-92f4-1b1d5100702e",
     "regions": {
      "2e862ace-1d3a-40d3-91b8-8adfb48f9b42": {
       "attrs": {
        "height": 0.8,
        "width": 0.8,
        "x": 0.1,
        "y": 0.1
       },
       "content": {
        "cell": "ad5486f8-4654-482a-b15c-f0d4e5c76937",
        "part": "whole"
       },
       "id": "2e862ace-1d3a-40d3-91b8-8adfb48f9b42"
      }
     }
    },
    "5f00c622-7e01-465c-af95-0e3140f41964": {
     "id": "5f00c622-7e01-465c-af95-0e3140f41964",
     "prev": "28900538-796d-4bd2-921b-00567d8adbe8",
     "regions": {
      "865db23e-09b3-41e7-bae9-d5f2c5d767ed": {
       "attrs": {
        "height": 0.8,
        "width": 0.8,
        "x": 0.1,
        "y": 0.1
       },
       "content": {
        "cell": "fd994b19-bfe4-47e4-9b0b-b0608e652de4",
        "part": "whole"
       },
       "id": "865db23e-09b3-41e7-bae9-d5f2c5d767ed"
      }
     }
    },
    "670664b7-a1e1-4d66-8e3f-5d3723286f87": {
     "id": "670664b7-a1e1-4d66-8e3f-5d3723286f87",
     "prev": "852688d5-90bc-41f3-8a37-152ef555b37b",
     "regions": {
      "534a18b1-a167-4b2e-9ace-6b1215080b4e": {
       "attrs": {
        "height": 0.8,
        "width": 0.8,
        "x": 0.1,
        "y": 0.1
       },
       "content": {
        "cell": "dca918e6-eeda-49a5-bf63-7d7e4593a8b4",
        "part": "whole"
       },
       "id": "534a18b1-a167-4b2e-9ace-6b1215080b4e"
      }
     }
    },
    "6754d1c7-53db-4045-9401-7322a90ae611": {
     "id": "6754d1c7-53db-4045-9401-7322a90ae611",
     "prev": "d1521f3d-2262-40a0-a5e1-88b0e16506e5",
     "regions": {
      "4492173d-93f2-479d-8d92-64643e7a9d51": {
       "attrs": {
        "height": 0.8,
        "width": 0.8,
        "x": 0.1,
        "y": 0.1
       },
       "content": {
        "cell": "0da93dea-2f38-407a-a1da-d95868af5553",
        "part": "whole"
       },
       "id": "4492173d-93f2-479d-8d92-64643e7a9d51"
      }
     }
    },
    "68f9f3ab-a415-4fd2-9796-a2885e3ecd3d": {
     "id": "68f9f3ab-a415-4fd2-9796-a2885e3ecd3d",
     "prev": "9e0cd59b-974d-40e3-9833-2b4997889623",
     "regions": {
      "6027082b-baf6-4a01-95d8-7da144824014": {
       "attrs": {
        "height": 0.8,
        "width": 0.8,
        "x": 0.1,
        "y": 0.1
       },
       "content": {
        "cell": "64460482-4923-4181-a234-2b0826f24577",
        "part": "whole"
       },
       "id": "6027082b-baf6-4a01-95d8-7da144824014"
      }
     }
    },
    "6f2a0112-3509-4daa-b075-857bf2579c21": {
     "id": "6f2a0112-3509-4daa-b075-857bf2579c21",
     "prev": "ae69a1c3-b34c-4834-a24d-9080490a066b",
     "regions": {
      "2e3711ab-46c8-41e6-8eb2-2c3f04083a96": {
       "attrs": {
        "height": 0.8,
        "width": 0.8,
        "x": 0.1,
        "y": 0.1
       },
       "content": {
        "cell": "614260a3-f2b7-41ac-bab7-3f27221c62c3",
        "part": "whole"
       },
       "id": "2e3711ab-46c8-41e6-8eb2-2c3f04083a96"
      }
     }
    },
    "852688d5-90bc-41f3-8a37-152ef555b37b": {
     "id": "852688d5-90bc-41f3-8a37-152ef555b37b",
     "prev": "f7d6d4c5-f718-4bd5-886e-9dbce46b14a8",
     "regions": {
      "44066b64-c04d-4b41-afba-c9d9c5103b86": {
       "attrs": {
        "height": 0.8,
        "width": 0.8,
        "x": 0.1,
        "y": 0.1
       },
       "content": {
        "cell": "29fce9a4-e192-488e-a24a-e339615b68c1",
        "part": "whole"
       },
       "id": "44066b64-c04d-4b41-afba-c9d9c5103b86"
      }
     }
    },
    "8af4880d-b773-4819-a3a7-20c3e747bd38": {
     "id": "8af4880d-b773-4819-a3a7-20c3e747bd38",
     "prev": "3945d6f7-bc6d-4e9b-865f-f8f513acaa65",
     "regions": {
      "073634e7-bf4f-432f-a7ce-78b7bff8768a": {
       "attrs": {
        "height": 0.8,
        "width": 0.8,
        "x": 0.1,
        "y": 0.1
       },
       "content": {
        "cell": "5759e1ec-75c1-48d7-a056-3674ab3e4f7d",
        "part": "whole"
       },
       "id": "073634e7-bf4f-432f-a7ce-78b7bff8768a"
      }
     }
    },
    "8e95450e-7c4d-4349-b203-df7f3f335f33": {
     "id": "8e95450e-7c4d-4349-b203-df7f3f335f33",
     "prev": "fb0452df-0a75-44a1-b887-5beb2d213ed9",
     "regions": {
      "ee77ca13-0bbc-49a2-a848-a71efd0adf84": {
       "attrs": {
        "height": 0.8,
        "width": 0.8,
        "x": 0.1,
        "y": 0.1
       },
       "content": {
        "cell": "c728a564-189f-4c98-8891-39170977a837",
        "part": "whole"
       },
       "id": "ee77ca13-0bbc-49a2-a848-a71efd0adf84"
      }
     }
    },
    "9ded5185-b8ba-4bd9-9fc7-a542f079d952": {
     "id": "9ded5185-b8ba-4bd9-9fc7-a542f079d952",
     "prev": "bacc3206-fdac-4afe-b401-62a6a67aecc3",
     "regions": {
      "2ea1639f-a94e-45fb-a2a7-a018b2ebe370": {
       "attrs": {
        "height": 0.8,
        "width": 0.8,
        "x": 0.1,
        "y": 0.1
       },
       "content": {
        "cell": "43e100ca-3a5e-4321-b30a-75ba56b43367",
        "part": "whole"
       },
       "id": "2ea1639f-a94e-45fb-a2a7-a018b2ebe370"
      }
     }
    },
    "9e0cd59b-974d-40e3-9833-2b4997889623": {
     "id": "9e0cd59b-974d-40e3-9833-2b4997889623",
     "prev": "f033fabf-ee38-4787-bd8c-e893d1ebdea7",
     "regions": {
      "eb776255-fd17-4c23-b21a-facb253ebf6b": {
       "attrs": {
        "height": 0.8,
        "width": 0.8,
        "x": 0.1,
        "y": 0.1
       },
       "content": {
        "cell": "287e983b-72a1-4613-afcc-c3c1ab61dd18",
        "part": "whole"
       },
       "id": "eb776255-fd17-4c23-b21a-facb253ebf6b"
      }
     }
    },
    "abd277d4-bebd-459a-83a0-f2c3e9f41bbe": {
     "id": "abd277d4-bebd-459a-83a0-f2c3e9f41bbe",
     "prev": "ffc5ae15-5827-409c-ae63-c56557c9f8dd",
     "regions": {
      "3ec88410-862e-480a-9cc9-2e1a4b01f6a0": {
       "attrs": {
        "height": 0.8,
        "width": 0.8,
        "x": 0.1,
        "y": 0.1
       },
       "content": {
        "cell": "2ed92466-3a5f-4aec-8cbf-017327c70bd8",
        "part": "whole"
       },
       "id": "3ec88410-862e-480a-9cc9-2e1a4b01f6a0"
      }
     }
    },
    "ae69a1c3-b34c-4834-a24d-9080490a066b": {
     "id": "ae69a1c3-b34c-4834-a24d-9080490a066b",
     "prev": "9ded5185-b8ba-4bd9-9fc7-a542f079d952",
     "regions": {
      "45f70f94-eaa8-43d6-baf8-b874c1c556bf": {
       "attrs": {
        "height": 0.8,
        "width": 0.8,
        "x": 0.1,
        "y": 0.1
       },
       "content": {
        "cell": "3841b030-0070-4827-b90e-1ddb0c7e3e74",
        "part": "whole"
       },
       "id": "45f70f94-eaa8-43d6-baf8-b874c1c556bf"
      }
     }
    },
    "b062e9fb-0f2e-42e6-924b-6bdaef937cfc": {
     "id": "b062e9fb-0f2e-42e6-924b-6bdaef937cfc",
     "prev": "26d299d9-0cb9-468a-a646-4c99648ef8f5",
     "regions": {
      "97edcfa2-8717-46b5-b3dc-bce48c24699b": {
       "attrs": {
        "height": 0.8,
        "width": 0.8,
        "x": 0.1,
        "y": 0.1
       },
       "content": {
        "cell": "86c5b979-5fef-43d7-a853-631dd7187b7a",
        "part": "whole"
       },
       "id": "97edcfa2-8717-46b5-b3dc-bce48c24699b"
      }
     }
    },
    "b678339e-95fa-4fb2-8fd9-64859f4a3003": {
     "id": "b678339e-95fa-4fb2-8fd9-64859f4a3003",
     "prev": "f1185057-baeb-4926-b4d4-ea490af4b375",
     "regions": {
      "01b5af79-5365-418f-a332-9447e1e4c8f7": {
       "attrs": {
        "height": 0.8,
        "width": 0.8,
        "x": 0.1,
        "y": 0.1
       },
       "content": {
        "cell": "285ab068-3282-460b-a021-01bc47b5f6a6",
        "part": "whole"
       },
       "id": "01b5af79-5365-418f-a332-9447e1e4c8f7"
      }
     }
    },
    "bacc3206-fdac-4afe-b401-62a6a67aecc3": {
     "id": "bacc3206-fdac-4afe-b401-62a6a67aecc3",
     "prev": "0af600d2-5e75-4ef0-9419-637561778a9b",
     "regions": {
      "a6ab8cbf-d7e3-43a6-a3e2-156953b5132f": {
       "attrs": {
        "height": 0.8,
        "width": 0.8,
        "x": 0.1,
        "y": 0.1
       },
       "content": {
        "cell": "03b78c78-a17e-4c7f-85e5-2f054ba3ac70",
        "part": "whole"
       },
       "id": "a6ab8cbf-d7e3-43a6-a3e2-156953b5132f"
      }
     }
    },
    "bb5a2ac7-d69b-472f-80f1-0b22b500d6b1": {
     "id": "bb5a2ac7-d69b-472f-80f1-0b22b500d6b1",
     "prev": "dcaae40e-bfa3-4b02-a07f-e60131d41001",
     "regions": {
      "d153cea3-4c0c-4d59-a0bc-3a1f34d2d533": {
       "attrs": {
        "height": 0.8,
        "width": 0.8,
        "x": 0.1,
        "y": 0.1
       },
       "content": {
        "cell": "525a9dc4-0bae-4e5c-ae1e-056dab928092",
        "part": "whole"
       },
       "id": "d153cea3-4c0c-4d59-a0bc-3a1f34d2d533"
      }
     }
    },
    "cd7f6e46-54bb-400e-8ed0-4b99dafbef7e": {
     "id": "cd7f6e46-54bb-400e-8ed0-4b99dafbef7e",
     "prev": "d591f5b2-3cfa-40e0-b6f9-23c7cf914341",
     "regions": {
      "baa53820-7b66-43be-bf4d-686011ba1a62": {
       "attrs": {
        "height": 0.8,
        "width": 0.8,
        "x": 0.1,
        "y": 0.1
       },
       "content": {
        "cell": "ca6c5d7d-72dc-46e7-b316-238ecbd2ef42",
        "part": "whole"
       },
       "id": "baa53820-7b66-43be-bf4d-686011ba1a62"
      }
     }
    },
    "cfe40159-360a-4ca6-b629-dcaf42ba6006": {
     "id": "cfe40159-360a-4ca6-b629-dcaf42ba6006",
     "prev": "68f9f3ab-a415-4fd2-9796-a2885e3ecd3d",
     "regions": {
      "85e81ff6-9bcf-4b34-8289-d88ad20b8e90": {
       "attrs": {
        "height": 0.8,
        "width": 0.8,
        "x": 0.1,
        "y": 0.1
       },
       "content": {
        "cell": "f975605e-50af-4b2b-b346-6987f9fdeb3b",
        "part": "whole"
       },
       "id": "85e81ff6-9bcf-4b34-8289-d88ad20b8e90"
      }
     }
    },
    "d1521f3d-2262-40a0-a5e1-88b0e16506e5": {
     "id": "d1521f3d-2262-40a0-a5e1-88b0e16506e5",
     "prev": "b678339e-95fa-4fb2-8fd9-64859f4a3003",
     "regions": {
      "28fe7bdc-bc30-46d8-877b-670ac3b83ff2": {
       "attrs": {
        "height": 0.8,
        "width": 0.8,
        "x": 0.1,
        "y": 0.1
       },
       "content": {
        "cell": "271e0508-27bd-465c-aeaf-9d93495cff5b",
        "part": "whole"
       },
       "id": "28fe7bdc-bc30-46d8-877b-670ac3b83ff2"
      }
     }
    },
    "d591f5b2-3cfa-40e0-b6f9-23c7cf914341": {
     "id": "d591f5b2-3cfa-40e0-b6f9-23c7cf914341",
     "prev": "30524962-33e0-442d-a166-8385e3539149",
     "regions": {
      "a168e527-9302-4cd1-a13f-08afa25e5339": {
       "attrs": {
        "height": 0.8,
        "width": 0.8,
        "x": 0.1,
        "y": 0.1
       },
       "content": {
        "cell": "daef9866-c944-44e5-9198-0a776e47aace",
        "part": "whole"
       },
       "id": "a168e527-9302-4cd1-a13f-08afa25e5339"
      }
     }
    },
    "d9efacc5-46f1-4913-bbbe-59aef63a7e5e": {
     "id": "d9efacc5-46f1-4913-bbbe-59aef63a7e5e",
     "prev": "34a1ce81-4b64-40a7-83e8-300aa2aedcc4",
     "regions": {
      "82e3f7de-35ec-4742-9b47-4d425012f8f7": {
       "attrs": {
        "height": 0.8,
        "width": 0.8,
        "x": 0.1,
        "y": 0.1
       },
       "content": {
        "cell": "a690eefb-2be1-47d9-a5b2-2b82ca73809d",
        "part": "whole"
       },
       "id": "82e3f7de-35ec-4742-9b47-4d425012f8f7"
      }
     }
    },
    "dcaae40e-bfa3-4b02-a07f-e60131d41001": {
     "id": "dcaae40e-bfa3-4b02-a07f-e60131d41001",
     "prev": "eaa81505-a8ce-4034-8700-57cf207c4352",
     "regions": {
      "81222eb2-e84c-47bc-a07c-b3624be55883": {
       "attrs": {
        "height": 0.8,
        "width": 0.8,
        "x": 0.1,
        "y": 0.1
       },
       "content": {
        "cell": "a455d904-3fbe-4a12-a1f2-1c8fa63e718c",
        "part": "whole"
       },
       "id": "81222eb2-e84c-47bc-a07c-b3624be55883"
      }
     }
    },
    "e6e8e485-1028-4ca0-a67c-bc4285cd900b": {
     "id": "e6e8e485-1028-4ca0-a67c-bc4285cd900b",
     "prev": "b062e9fb-0f2e-42e6-924b-6bdaef937cfc",
     "regions": {
      "6edab1db-2389-4635-92f4-7aede64288d3": {
       "attrs": {
        "height": 0.8,
        "width": 0.8,
        "x": 0.1,
        "y": 0.1
       },
       "content": {
        "cell": "5c058c4e-5fee-4eda-834f-a419aebedd07",
        "part": "whole"
       },
       "id": "6edab1db-2389-4635-92f4-7aede64288d3"
      }
     }
    },
    "eaa81505-a8ce-4034-8700-57cf207c4352": {
     "id": "eaa81505-a8ce-4034-8700-57cf207c4352",
     "prev": "1d02906a-e06a-4a1d-a0c0-988f2b6a3645",
     "regions": {
      "4f784b97-8fa0-4137-8e50-0b05f8077d8d": {
       "attrs": {
        "height": 0.8,
        "width": 0.8,
        "x": 0.1,
        "y": 0.1
       },
       "content": {
        "cell": "06d98302-00f8-4d79-9ad5-660d734a7684",
        "part": "whole"
       },
       "id": "4f784b97-8fa0-4137-8e50-0b05f8077d8d"
      }
     }
    },
    "f033fabf-ee38-4787-bd8c-e893d1ebdea7": {
     "id": "f033fabf-ee38-4787-bd8c-e893d1ebdea7",
     "prev": "e6e8e485-1028-4ca0-a67c-bc4285cd900b",
     "regions": {
      "03432ebd-e70f-4764-a43b-f2f47da59bb3": {
       "attrs": {
        "height": 0.8,
        "width": 0.8,
        "x": 0.1,
        "y": 0.1
       },
       "content": {
        "cell": "c636b122-4836-4ed4-aa4a-1738665b9b9a",
        "part": "whole"
       },
       "id": "03432ebd-e70f-4764-a43b-f2f47da59bb3"
      }
     }
    },
    "f1185057-baeb-4926-b4d4-ea490af4b375": {
     "id": "f1185057-baeb-4926-b4d4-ea490af4b375",
     "prev": "6f2a0112-3509-4daa-b075-857bf2579c21",
     "regions": {
      "7546ae18-835a-4616-9017-49c13dbbea8d": {
       "attrs": {
        "height": 0.8,
        "width": 0.8,
        "x": 0.1,
        "y": 0.1
       },
       "content": {
        "cell": "e2c6911d-d7b5-4bc5-b7b5-4aacf1f5e16c",
        "part": "whole"
       },
       "id": "7546ae18-835a-4616-9017-49c13dbbea8d"
      }
     }
    },
    "f7d6d4c5-f718-4bd5-886e-9dbce46b14a8": {
     "id": "f7d6d4c5-f718-4bd5-886e-9dbce46b14a8",
     "prev": "8e95450e-7c4d-4349-b203-df7f3f335f33",
     "regions": {
      "e44956c3-9cdc-4045-83dd-7da9fe20a43c": {
       "attrs": {
        "height": 0.8,
        "width": 0.8,
        "x": 0.1,
        "y": 0.1
       },
       "content": {
        "cell": "f9b7401d-d46c-46ec-88b4-20bfd0d52016",
        "part": "whole"
       },
       "id": "e44956c3-9cdc-4045-83dd-7da9fe20a43c"
      }
     }
    },
    "fb0452df-0a75-44a1-b887-5beb2d213ed9": {
     "id": "fb0452df-0a75-44a1-b887-5beb2d213ed9",
     "prev": "0625507a-b45b-4bd4-ae49-dc84776d0d12",
     "regions": {
      "992c8c35-a9cb-4413-a4ba-3866195ec8ba": {
       "attrs": {
        "height": 0.8,
        "width": 0.8,
        "x": 0.1,
        "y": 0.1
       },
       "content": {
        "cell": "55461985-ce0c-4d80-af16-83546fd567cb",
        "part": "whole"
       },
       "id": "992c8c35-a9cb-4413-a4ba-3866195ec8ba"
      }
     }
    },
    "ff5d273d-624d-4084-9245-d2e63d652d3f": {
     "id": "ff5d273d-624d-4084-9245-d2e63d652d3f",
     "prev": "cfe40159-360a-4ca6-b629-dcaf42ba6006",
     "regions": {
      "a9a6636b-9c15-4313-8fde-2f8c3b837054": {
       "attrs": {
        "height": 0.8,
        "width": 0.8,
        "x": 0.1,
        "y": 0.1
       },
       "content": {
        "cell": "7367c126-acad-4115-81e5-f7db8d2b275c",
        "part": "whole"
       },
       "id": "a9a6636b-9c15-4313-8fde-2f8c3b837054"
      }
     }
    },
    "ffc5ae15-5827-409c-ae63-c56557c9f8dd": {
     "id": "ffc5ae15-5827-409c-ae63-c56557c9f8dd",
     "prev": "6754d1c7-53db-4045-9401-7322a90ae611",
     "regions": {
      "c474b573-fef0-4545-9909-3d8e47305551": {
       "attrs": {
        "height": 0.8,
        "width": 0.8,
        "x": 0.1,
        "y": 0.1
       },
       "content": {
        "cell": "3c2bc7e4-65f8-43a1-94e9-c57c82218d19",
        "part": "whole"
       },
       "id": "c474b573-fef0-4545-9909-3d8e47305551"
      }
     }
    }
   },
   "themes": {
    "default": "9e30d733-5ce5-4311-b8b1-ce05a7bc4772",
    "theme": {
     "9e30d733-5ce5-4311-b8b1-ce05a7bc4772": {
      "id": "9e30d733-5ce5-4311-b8b1-ce05a7bc4772",
      "palette": {
       "19cc588f-0593-49c9-9f4b-e4d7cc113b1c": {
        "id": "19cc588f-0593-49c9-9f4b-e4d7cc113b1c",
        "rgb": [
         252,
         252,
         252
        ]
       },
       "31af15d2-7e15-44c5-ab5e-e04b16a89eff": {
        "id": "31af15d2-7e15-44c5-ab5e-e04b16a89eff",
        "rgb": [
         68,
         68,
         68
        ]
       },
       "50f92c45-a630-455b-aec3-788680ec7410": {
        "id": "50f92c45-a630-455b-aec3-788680ec7410",
        "rgb": [
         155,
         177,
         192
        ]
       },
       "c5cc3653-2ee1-402a-aba2-7caae1da4f6c": {
        "id": "c5cc3653-2ee1-402a-aba2-7caae1da4f6c",
        "rgb": [
         43,
         126,
         184
        ]
       },
       "efa7f048-9acb-414c-8b04-a26811511a21": {
        "id": "efa7f048-9acb-414c-8b04-a26811511a21",
        "rgb": [
         25.118061674008803,
         73.60176211453744,
         107.4819383259912
        ]
       }
      },
      "rules": {
       "blockquote": {
        "color": "50f92c45-a630-455b-aec3-788680ec7410"
       },
       "code": {
        "font-family": "Anonymous Pro"
       },
       "h1": {
        "color": "c5cc3653-2ee1-402a-aba2-7caae1da4f6c",
        "font-family": "Lato",
        "font-size": 8
       },
       "h2": {
        "color": "c5cc3653-2ee1-402a-aba2-7caae1da4f6c",
        "font-family": "Lato",
        "font-size": 6
       },
       "h3": {
        "color": "50f92c45-a630-455b-aec3-788680ec7410",
        "font-family": "Lato",
        "font-size": 5.5
       },
       "h4": {
        "color": "c5cc3653-2ee1-402a-aba2-7caae1da4f6c",
        "font-family": "Lato",
        "font-size": 5
       },
       "h5": {
        "font-family": "Lato"
       },
       "h6": {
        "font-family": "Lato"
       },
       "h7": {
        "font-family": "Lato"
       },
       "pre": {
        "font-family": "Anonymous Pro",
        "font-size": 4
       }
      },
      "text-base": {
       "font-family": "Merriweather",
       "font-size": 4
      }
     }
    }
   }
  }
 },
 "nbformat": 4,
 "nbformat_minor": 0
}
